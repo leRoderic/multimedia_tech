{
 "cells": [
  {
   "cell_type": "markdown",
   "metadata": {},
   "source": [
    "# Ejercicio AvCont2 (b) - Codificación de Huffman"
   ]
  },
  {
   "cell_type": "markdown",
   "metadata": {},
   "source": [
    "* Óscar Sementé Solà\n",
    "* Abdelkarim Azzouguagh Ouniri\n",
    "* Rodrigo Cabezas Quirós"
   ]
  },
  {
   "cell_type": "markdown",
   "metadata": {},
   "source": [
    "### [Apartado extra] Algoritmo generación tablas de probabilidades de símbolos"
   ]
  },
  {
   "cell_type": "code",
   "execution_count": 1,
   "metadata": {},
   "outputs": [
    {
     "data": {
      "text/plain": [
       "[[('D', 0.3), ('K', 0.2), ('Q', 0.2), ('J', 0.15), ('10', 0.1), ('9', 0.05)],\n",
       " [('D', 0.3), ('K', 0.2), ('Q', 0.2), ('J', 0.15), ('109', 0.15)],\n",
       " [('D', 0.3), ('J109', 0.3), ('K', 0.2), ('Q', 0.2)],\n",
       " [('KQ', 0.4), ('D', 0.3), ('J109', 0.3)],\n",
       " [('DJ109', 0.6), ('KQ', 0.4)],\n",
       " [('DJ109KQ', 1.0)]]"
      ]
     },
     "execution_count": 1,
     "metadata": {},
     "output_type": "execute_result"
    }
   ],
   "source": [
    "def huffman_tables(e):\n",
    "    \"\"\"\n",
    "    Generación de las tablas de probabilidades de símbolos con Huffman\n",
    "    \"\"\"\n",
    "    simbols = list(e.keys())\n",
    "    probs, iters = [(k, v/100) for k, v in sorted(e.items(), key=lambda x: x[1], reverse=True)], []\n",
    "    # Construye los valores del árbol, en caso de que haya más de un símbolo de entrada\n",
    "    while True:\n",
    "        # En cada iteración, se ordenan los símbolos en función de su probabilidad (orden descendente)\n",
    "        probs = sorted(probs, key=lambda x: x[1], reverse=True)\n",
    "        # Y por cada iteración se guarda el valor de la tabla\n",
    "        iters.append(probs.copy())\n",
    "        \n",
    "        # Condición de salida, todos los símbolos juntos y probabilidad final (1 -> 100%) \n",
    "        if len(probs) == 1:\n",
    "            break\n",
    "            \n",
    "        # Sumar probabilidades, juntar símbolos y añadirlos a la lista\n",
    "        apos, lpos = probs.pop(-2), probs.pop(-1)\n",
    "        nprob, nsim = apos[1] + lpos[1], apos[0] + lpos[0]\n",
    "        probs.append((nsim, round(nprob, 3)))\n",
    "        \n",
    "    return iters\n",
    "            \n",
    "data = {\"D\": 30, \"K\": 20, \"Q\": 20, \"J\": 15, \"10\": 10, \"9\": 5}\n",
    "huffman_tables(data)"
   ]
  },
  {
   "cell_type": "markdown",
   "metadata": {},
   "source": [
    "### a) Implementación del codificador de Huffman."
   ]
  },
  {
   "cell_type": "code",
   "execution_count": 2,
   "metadata": {},
   "outputs": [],
   "source": [
    "import math\n",
    "\n",
    "class HuffmanCoderA:\n",
    "    \n",
    "    def __init__(self, p):      \n",
    "        self.nodes = []\n",
    "        # Conversión de las probabilidades a espacio (0,1).\n",
    "        self.probs = [(k, v/100) for k, v in sorted(p.items(), key=lambda x: x[1], reverse=True)]\n",
    "        self.symbols = [s for s, _ in self.probs]\n",
    "        self.codes = {}\n",
    "        self.__generate_codes()\n",
    "    \n",
    "    def __add_node(self, sim, prob, left_node=None, right_node=None, edge_value=\"\"):\n",
    "        \"\"\"\n",
    "        Uso interno de la clase, añade un nodo al árbol.\n",
    "        \"\"\"\n",
    "        self.nodes.append(self.HuffmanNode(sim, prob, left_node, right_node, edge_value))\n",
    "    \n",
    "    def __get_least_probable_nodes(self):\n",
    "        \"\"\"\n",
    "        Uso interno de la clase, extrae los dos nodos con menor probabilidad.\n",
    "        \"\"\"\n",
    "        return self.nodes.pop(-2), self.nodes.pop(-1)\n",
    "    \n",
    "    def __generate_codes(self):\n",
    "        \"\"\"\n",
    "        Uso interno de la clase, generación de los códigos de Huffman para los símbolos.\n",
    "        \"\"\"\n",
    "        if len(self.probs) <= 1:\n",
    "            print(\"Not enough symbols, at least 2 needed\")\n",
    "            return\n",
    "        \n",
    "        for s, p in self.probs:\n",
    "            self.__add_node(s, p)\n",
    "        \n",
    "        while len(self.nodes) > 1:\n",
    "            # En cada iteración se ordenan los nodos en función de su probabilidad, orden descendente.\n",
    "            self.nodes = sorted(self.nodes, key=lambda x: x.prob, reverse=True)\n",
    "            # Recupera los nodos con menor probabilidad y computa símbolo y probabilidad del nuevo nodo.\n",
    "            apos, lpos = self.__get_least_probable_nodes()\n",
    "            nprob, nsim = apos.prob + lpos.prob, apos.simbol + lpos.simbol\n",
    "            # Como los nodos están ordenados en función de su probabilidad (sentido descendiente), se asigna '1' como\n",
    "            # valor de arista al nodo que primero se extrae y '0' a su siguiente (y último), que tiene la menor probabilidad.\n",
    "            apos.edge_value, lpos.edge_value = \"1\", \"0\"\n",
    "            # Se añade el nuevo nodo al árbol y se sigue iterando.\n",
    "            self.__add_node(nsim, nprob, apos, lpos)\n",
    "        \n",
    "        self.__compute_codes_recursive(self.nodes[0], \"\")\n",
    "        \n",
    "    def __compute_codes_recursive(self, node, acc):\n",
    "        \"\"\"\n",
    "        Uso interno de la clase, asignación de códigos a cada nodo hoja del árbol.\n",
    "        \"\"\"\n",
    "        # Se propaga el código en profundidad, al empezar con valor \"\" pero se va añadiendo el valor de la arista de cada\n",
    "        # nodo intermedio (nodo no hoja).\n",
    "        acc_val = acc + node.edge_value\n",
    "        \n",
    "        # Si tiene nodo por la izquierda, se sigue recursivamente.\n",
    "        if node.left:\n",
    "            self.__compute_codes_recursive(node.left, acc_val)\n",
    "        \n",
    "        # Mismo proceso para el nodo derecho.\n",
    "        if node.right:\n",
    "            self.__compute_codes_recursive(node.right, acc_val)\n",
    "        \n",
    "        # Si no tiene nodo izquierdo ni derecho, se trata de un nodo hoja y se le asigna el código que se ha propagado\n",
    "        # a lo largo de la recursión.\n",
    "        if not node.left and not node.right:\n",
    "            node.code = acc_val\n",
    "            self.codes[node.simbol] = node.code\n",
    "    \n",
    "    def get_codes(self):\n",
    "        \"\"\"\n",
    "        Devuelve un diccionario con los códigos para los símbolos entrados.\n",
    "        \"\"\"\n",
    "        return {s: c for s, c in sorted(self.codes.items())}\n",
    "    \n",
    "    def get_compression_factor(self):\n",
    "        \"\"\"\n",
    "        Calcula el factor de compresión.\n",
    "        \"\"\"\n",
    "        return round(round(math.log(len(self.symbols), 2))/self.get_mean_bit_number(), 3) if len(self.probs) > 1 else \"N/A\"\n",
    "    \n",
    "    def get_mean_bit_number(self):\n",
    "        \"\"\"\n",
    "        Calcula el promedio de bits usados.\n",
    "        \"\"\"\n",
    "        return round(sum([len(self.codes[s])*p for s, p in self.probs]), 3) if len(self.probs) > 1 else \"N/A\"\n",
    "    \n",
    "    def get_entropy(self):\n",
    "        \"\"\"\n",
    "        Calcula la entropía de la codificación.\n",
    "        \"\"\"\n",
    "        return round(sum([-p*math.log(p, 2) for _, p in self.probs]), 3) if len(self.probs) > 1 else \"N/A\"\n",
    "    \n",
    "    def get_stats(self):\n",
    "        return {\"n_bits\": self.get_mean_bit_number(), \"entropy\": self.get_entropy(),\n",
    "               \"compression_factor\": self.get_compression_factor()}\n",
    "            \n",
    "    class HuffmanNode:\n",
    "        \"\"\"\n",
    "        Clase de ayuda para la generación del árbol de Huffman.\n",
    "        \"\"\"\n",
    "        \n",
    "        def __init__(self, sim, prob, left_node, right_node, edge_value):\n",
    "            self.simbol = sim\n",
    "            self.prob = prob\n",
    "            # Para los nodos hoja, left y right serán None.\n",
    "            self.left = left_node\n",
    "            self.right = right_node\n",
    "            # El nodo ráiz no tendrá asignado ningún valor en la arista.\n",
    "            self.edge_value = str(edge_value)\n",
    "            # Los nodos intermedios no tendrán asignado ningún código.\n",
    "            self.code = \"\""
   ]
  },
  {
   "cell_type": "code",
   "execution_count": 3,
   "metadata": {},
   "outputs": [
    {
     "name": "stdout",
     "output_type": "stream",
     "text": [
      "{'1': '1111', '9': '1110', 'D': '10', 'J': '110', 'K': '01', 'Q': '00'}\n",
      "{'n_bits': 2.45, 'entropy': 2.409, 'compression_factor': 1.224}\n"
     ]
    }
   ],
   "source": [
    "data = {\"D\": 30, \"K\": 20, \"Q\": 20, \"J\": 15, \"1\": 10, \"9\": 5}\n",
    "hcoder_a = HuffmanCoderA(data)\n",
    "print(hcoder_a.get_codes())\n",
    "print(hcoder_a.get_stats())"
   ]
  },
  {
   "cell_type": "markdown",
   "metadata": {},
   "source": [
    "### b) Modificación del apartado a) para que a partir de una tabla de símbolos originales, sea capaz de traducir al código Huffman correspondiente un mensaje cualquiera que contenga únicamente ese conjunto de símbolos originales."
   ]
  },
  {
   "cell_type": "markdown",
   "metadata": {},
   "source": [
    "<h2>[<span style=\"color: green\"><b>Nota importante</b></span>]</h2>\n",
    "<p style=\"font-size: 1em\">El traductor a Huffman <b>SÓLO</b> funciona correctamente para símbolos de entrada completamente diferentes (ej. A, B, C, ...). En los casos en que los símbolos de entrada son similares (ej. 1, 10, 100, 00, ...) puede haber resultados erróneos.<br> Hemos intentado implementar la separación de carácteres en función de los símbolos del coder y los de la entrada, pero una vez más resulta imposible internamente en una string diferenciar si se trata de un 1, un 10 o un 100. Por esto y porque el problema se refiere a Huffman, no hemos implementado esa disciminación.</p>"
   ]
  },
  {
   "cell_type": "code",
   "execution_count": 4,
   "metadata": {},
   "outputs": [],
   "source": [
    "import math\n",
    "# Comentarios del apartado anterior suprimidos, solo están los nuevos del apartado b).\n",
    "class HuffmanCoderB:\n",
    "    \n",
    "    def __init__(self, p):\n",
    "        self.nodes = []\n",
    "        self.probs = [(k, v/100) for k, v in sorted(p.items(), key=lambda x: x[1], reverse=True)]\n",
    "        self.symbols = [s for s, _ in self.probs]\n",
    "        self.codes = {}\n",
    "        self.__generate_codes()\n",
    "    \n",
    "    def __add_node(self, sim, prob, left_node=None, right_node=None, edge_value=\"\"):\n",
    "        self.nodes.append(self.HuffmanNode(sim, prob, left_node, right_node, edge_value))\n",
    "    \n",
    "    def __get_least_probable_nodes(self):\n",
    "        return self.nodes.pop(-2), self.nodes.pop(-1)\n",
    "    \n",
    "    def __generate_codes(self):\n",
    "        if len(self.probs) <= 1:\n",
    "            print(\"Not enough symbols, at least 2 needed\")\n",
    "            return\n",
    "        for s, p in self.probs:\n",
    "            self.__add_node(s, p)\n",
    "        while len(self.nodes) > 1:\n",
    "            self.nodes = sorted(self.nodes, key=lambda x: x.prob, reverse=True)\n",
    "            apos, lpos = self.__get_least_probable_nodes()\n",
    "            nprob, nsim = apos.prob + lpos.prob, apos.simbol + lpos.simbol\n",
    "            apos.edge_value, lpos.edge_value = \"1\", \"0\"\n",
    "            self.__add_node(nsim, nprob, apos, lpos)\n",
    "        self.__compute_codes_recursive(self.nodes[0], \"\")\n",
    "        \n",
    "    def __compute_codes_recursive(self, node, acc):\n",
    "        acc_val = acc + node.edge_value\n",
    "        if node.left:\n",
    "            self.__compute_codes_recursive(node.left, acc_val)\n",
    "        if node.right:\n",
    "            self.__compute_codes_recursive(node.right, acc_val)\n",
    "        if not node.left and not node.right:\n",
    "            node.code = acc_val\n",
    "            self.codes[node.simbol] = node.code\n",
    "    \n",
    "    def get_codes(self):\n",
    "        return {s: c for s, c in sorted(self.codes.items())}\n",
    "    \n",
    "    def get_compression_factor(self):\n",
    "        return round(round(math.log(len(self.symbols), 2))/self.get_mean_bit_number(), 3) if len(self.probs) > 1 else \"N/A\"\n",
    "    \n",
    "    def get_mean_bit_number(self):\n",
    "        return round(sum([len(self.codes[s])*p for s, p in self.probs]), 3) if len(self.probs) > 1 else \"N/A\"\n",
    "    \n",
    "    def get_entropy(self):\n",
    "        return round(sum([-p*math.log(p, 2) for _, p in self.probs]), 3) if len(self.probs) > 1 else \"N/A\"\n",
    "    \n",
    "    def get_stats(self):\n",
    "        return {\"n_bits\": self.get_mean_bit_number(), \"entropy\": self.get_entropy(),\n",
    "               \"compression_factor\": self.get_compression_factor()}\n",
    "    \n",
    "    def translate_message(self, msg):\n",
    "        \"\"\"\n",
    "        Traduce un mensaje a código de Huffman.\n",
    "        \"\"\"\n",
    "\n",
    "        entradas = list(set([i for i in msg if i != \" \"]))\n",
    "        # Si los símbolos del mensaje no están en el codificador no se hace nada.\n",
    "        for i in entradas:\n",
    "            if i not in self.symbols:\n",
    "                return \"Symbols do not match\"\n",
    "\n",
    "        # Se separa la string por espacios y luego por carácteres.\n",
    "        split_msg, ret = [list(i) for i in msg.split(\" \")], \"\"\n",
    "\n",
    "        # Se remplazan los símbolos de entrada con los de Huffman, y se une el resultado primero por letra y luego por palabra.\n",
    "        return \" \".join([\"\".join(self.codes[j] for j in i) for i in split_msg])\n",
    "\n",
    "            \n",
    "    class HuffmanNode:\n",
    "        \n",
    "        def __init__(self, sim, prob, left_node, right_node, edge_value):\n",
    "            self.simbol = sim\n",
    "            self.prob = prob\n",
    "            self.left = left_node\n",
    "            self.right = right_node\n",
    "            self.edge_value = str(edge_value)\n",
    "            self.code = \"\""
   ]
  },
  {
   "cell_type": "code",
   "execution_count": 5,
   "metadata": {},
   "outputs": [
    {
     "name": "stdout",
     "output_type": "stream",
     "text": [
      "{'n_bits': 2.72, 'entropy': 2.715, 'compression_factor': 1.103}\n",
      "1001111 11000010000 00110010\n"
     ]
    }
   ],
   "source": [
    "data = {\"A\": 25, \"B\": 25, \"C\": 14, \"D\": 14, \"E\": 5.5, \"F\": 5.5, \"G\": 5.5, \"H\": 5.5}\n",
    "hcoder_b = HuffmanCoderB(data)\n",
    "print(hcoder_b.get_stats())\n",
    "print(hcoder_b.translate_message(\"ABC DEF GH\"))"
   ]
  },
  {
   "cell_type": "markdown",
   "metadata": {},
   "source": [
    "### c) Generad ahora una secuencia larga y aleatoria que contenga los símbolos del apartado a) y codificadla en Huffmann mediante el algoritmo implementado en el apartado b)."
   ]
  },
  {
   "cell_type": "code",
   "execution_count": 6,
   "metadata": {},
   "outputs": [],
   "source": [
    "from random import random\n",
    "\n",
    "def seq_prob(fprob_table, K):\n",
    "    lenght = 1\n",
    "    seq_list = []\n",
    "    data = \"\"\n",
    "    while len(seq_list) < lenght:\n",
    "        for k, v in fprob_table.items():\n",
    "            if len(data) == K:\n",
    "                seq_list.append(data)\n",
    "                data = \"\"\n",
    "                break\n",
    "            #Genera un numero random i si este es menor a la probabilidad del simbolo se añade\n",
    "            rn = random()\n",
    "            if rn <=  (v/100):\n",
    "                data += k\n",
    "\n",
    "    return seq_list\n"
   ]
  },
  {
   "cell_type": "code",
   "execution_count": 7,
   "metadata": {},
   "outputs": [
    {
     "name": "stdout",
     "output_type": "stream",
     "text": [
      "Secuencia:  ['DDKQKQDKQJDK9Q1DKQQQJKQD11DJ1K19KJ1QJKQQKQDKDDKDKJJDJKDQ1DQ1K1QDDJDQ1QQKQDQJDQKQDDJKQKJ1QQD1DKJQ1Q1D1DKQ1DQDQD9KDQDQDDJ1KQ1DQJQDJDDD11DQJQKJKQJDKDJKDKDJDDKJKD1D1DQKQ9D1DKJ1KK1DDD9KDDJK1JDJK1J19Q1DJDKKQDDJ1JDKDDK9DDJ9KJKKQD1DKQK1D1D1DKJDKDQDJ9Q11QJD1K'] \n",
      "\n",
      "{'1': '1111', '9': '1110', 'D': '10', 'J': '110', 'K': '01', 'Q': '00'} \n",
      "\n",
      "101001000100100100110100111100011111001000000110010010111111111011011110111111110011101111001100100000100100110100110011101101011001100011111000111101111100101011010001111000001001000110100001001010110010001110111100001011111001110001111001111101111100100111110001000101110011000100010101101111010011111000110001011010101011111111100011000011100100110100110110011001101101010011100110111110111110000100111010111110011101111010111111010101110011010110011111110101100111111101111111000111110110100101001010110111111010011010011110101011011100111001010010111110010001111110111110111110011101001100010110111000111111110011010111101\n"
     ]
    }
   ],
   "source": [
    "data = {\"D\": 30, \"K\": 20, \"Q\": 20, \"J\": 15, \"1\": 10, \"9\": 5}\n",
    "seq = seq_prob(data, 250)\n",
    "print('Secuencia: ', seq, \"\\n\")\n",
    "hcoder_c = HuffmanCoderB(data)\n",
    "print(hcoder_c.get_codes(), \"\\n\")\n",
    "print(hcoder_c.translate_message(seq[0]))"
   ]
  },
  {
   "cell_type": "markdown",
   "metadata": {},
   "source": [
    "### d) Ejecutad el programa con diversas secuencias aleatorias, suficientemente largas. ¿Qué factor de factor de compresión alcanzáis? ¿Qué relación tiene éste con la entropía calculada teóricamente para el conjunto de símbolos del apartado a)?"
   ]
  },
  {
   "cell_type": "code",
   "execution_count": 9,
   "metadata": {},
   "outputs": [],
   "source": [
    "def seq_n_times(fprob_table, K, N):\n",
    "    seq_list_n = []\n",
    "    for i in range(N):\n",
    "        seq_list_n.append(seq_prob(fprob_table, K))\n",
    "    return seq_list_n[-1]"
   ]
  },
  {
   "cell_type": "code",
   "execution_count": 10,
   "metadata": {},
   "outputs": [
    {
     "name": "stdout",
     "output_type": "stream",
     "text": [
      "Secuencia:  ['Q99KKDDKDQJQKQKD1QDKJDKJDQDKQQJDQ19DD1Q1DJDQD1QDJJDJDDKJDKDQKQKDDQQJQJQ9DDKQJ1DK1KK1DQDDKD1DKQKDDDQKQ1DQDKQKQ1JDKDDDKDKQ19D1Q1DKJQKJ1DDDJDKDKQ1D9KQ1DQK9DKQDQDDJ1KDDK9JDKDJKDQKD1D1KKDKDDDDQQ1QJ11DDKDD1DD9KQKDDKQDKQJDKJQDK1DJDJ9DJJ1DKDJDKQKQ1DQJ1DQJKK9'] \n",
      "\n",
      "{'1': '1111', '9': '1110', 'D': '10', 'J': '110', 'K': '01', 'Q': '00'} \n",
      "\n",
      "0011101110010110100110001100001000110111100100111010011101000100100001101000111111101010111100111110110100010111100101101101011010100111010011000010001101000001100011000111010100100110111110011111010111111000101001101111100100011010100001001111100010010001001111110100110101001100100111111101011110011111001110000111011111010101101001100100111110111001001111100001111010010010001010110111101101001111011010011011001100001101111101111010110011010101000001111001101111111110100110101111101011100100011010010010010011010011100010011111101101011011101011011011111001101101001000100111110001101111100011001011110 \n",
      "\n",
      "{'n_bits': 2.45, 'entropy': 2.409, 'compression_factor': 1.224} \n",
      "\n"
     ]
    }
   ],
   "source": [
    "data = {\"D\": 30, \"K\": 20, \"Q\": 20, \"J\": 15, \"1\": 10, \"9\": 5}\n",
    "seq = seq_n_times(data, 250, 50)\n",
    "print('Secuencia: ', seq, \"\\n\")\n",
    "hcoder_d = HuffmanCoderB(data)\n",
    "print(hcoder_d.get_codes(), \"\\n\")\n",
    "print(hcoder_d.translate_message(seq[0]), \"\\n\")\n",
    "print(hcoder_d.get_stats(), \"\\n\")"
   ]
  },
  {
   "cell_type": "markdown",
   "metadata": {},
   "source": [
    "##### ¿Qué factor de factor de compresión alcanzáis?\n",
    " 2.409\n",
    " \n",
    "##### ¿Qué relación tiene éste con la entropía calculada teóricamente para el conjunto de símbolos del apartado a)\n",
    "Teniendo en cuenta que la entropía es la media de la cantidad de información contenida en una secuencia de entrada y tras varias pruebas, hemos podido observar que a mayor ratio de compresión se obtiene una entropía menor."
   ]
  }
 ],
 "metadata": {
  "kernelspec": {
   "display_name": "Python 3",
   "language": "python",
   "name": "python3"
  },
  "language_info": {
   "codemirror_mode": {
    "name": "ipython",
    "version": 3
   },
   "file_extension": ".py",
   "mimetype": "text/x-python",
   "name": "python",
   "nbconvert_exporter": "python",
   "pygments_lexer": "ipython3",
   "version": "3.8.3"
  }
 },
 "nbformat": 4,
 "nbformat_minor": 4
}
