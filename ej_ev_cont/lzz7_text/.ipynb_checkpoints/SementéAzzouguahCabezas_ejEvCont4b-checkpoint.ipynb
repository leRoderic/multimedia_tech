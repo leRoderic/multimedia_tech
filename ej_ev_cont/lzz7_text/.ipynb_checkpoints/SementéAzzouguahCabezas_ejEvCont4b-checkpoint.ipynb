{
 "cells": [
  {
   "cell_type": "markdown",
   "metadata": {},
   "source": [
    "# Ejercicio EvCont4 (b) - Compresión de texto con LZZ7"
   ]
  },
  {
   "cell_type": "markdown",
   "metadata": {},
   "source": [
    "* Óscar Sementé Solà\n",
    "* Abdelkarim Azzouguagh Ouniri\n",
    "* Rodrigo Cabezas Quirós"
   ]
  },
  {
   "cell_type": "code",
   "execution_count": 33,
   "metadata": {},
   "outputs": [],
   "source": [
    "import math, re, time\n",
    "\n",
    "class LZZ7Compressor:\n",
    "    \n",
    "    def __init__(self, win, wsld):\n",
    "        self.win = win\n",
    "        self.wsld = wsld\n",
    "        self.win_b = int(math.log2(win))\n",
    "        self.wsld_b = int(math.log2(wsld))\n",
    "    \n",
    "    def __is_power_of_two(self, v):\n",
    "        return math.log2(v).is_integer()\n",
    "    \n",
    "    def __ld_to_bin(self, l, d, useLD):\n",
    "        \"\"\"\n",
    "        Transforma (L, D) a formato binario de longitud fija.\n",
    "        \"\"\"\n",
    "        b_win = lambda x : ''.join(reversed( [str((x >> i) & 1) for i in range(self.win_b)]))\n",
    "        b_wsld = lambda x : ''.join(reversed( [str((x >> i) & 1) for i in range(self.wsld_b)]))\n",
    "        if useLD:\n",
    "            return (l, d)\n",
    "        return b_win(l) + b_wsld(d)\n",
    "    \n",
    "    def __match_pattern(self, slide, inp, useLD):\n",
    "        \"\"\"\n",
    "        Busca un patrón de la ventana de entrada en la ventana deslizante. Si lo encuentra devuelve\n",
    "        (L, D) en decimal o en formato binario (según valor de 'useLD') y la longitud del patrón\n",
    "        encontrado. Si no lo encuentra devuelve False y 1 (incremento del offset).\n",
    "        \"\"\"\n",
    "        occ, seqs = [], [inp[:i] for i in range(len(inp), 0, -1)]\n",
    "        while seqs:\n",
    "            current = seqs.pop(0)\n",
    "            occ = [(x.start(0), x.end(0)) for x in re.finditer(current, slide)]\n",
    "            if occ:\n",
    "                si, ei = occ[-1]\n",
    "                return self.__ld_to_bin(len(slide[si:ei]), len(slide) - si, useLD), ei - si\n",
    "        return False, 1\n",
    "    \n",
    "    def compress_bin(self, m, useLD=False):\n",
    "        \"\"\"\n",
    "        Compresión de una string binaria a partir de la configuración del compresor.\n",
    "        \"\"\"\n",
    "        if not self.win <= self.wsld and not len(m) >= self.win + self.wsld:\n",
    "            \"\"\"\n",
    "            Que los bits de conf. sean potencia de 2 no tiene ningún sentido. El ejercicio evaluado en\n",
    "            clase tenía por parametros 8 y 6 bits. Aplicando la norma de la potencia de 2, con 6 bits no\n",
    "            funcionaria el algoritmo. Así que hemos aplicado esta política.\n",
    "            or \\ not self.__is_power_of_two(self.win) \\ or not self.__is_power_of_two(self.wsld):\n",
    "            \"\"\"\n",
    "            return -1\n",
    "        # Se aplica método de inserción de bit, para los casos problematicos.\n",
    "        offset, m = 0, self.__add_insertion_bits(m)\n",
    "        ret = [m[:self.wsld]]\n",
    "        while offset + self.wsld + self.win <= len(m):\n",
    "            # Búsqueda de patrón de la ventana de entrada en la deslizante.\n",
    "            slide = m[offset:offset + self.wsld]\n",
    "            inp = m[offset + self.wsld:offset + self.wsld + self.win]\n",
    "            found, flen = self.__match_pattern(slide, inp, useLD)\n",
    "            if found:\n",
    "                # Si se encuentra se añade al retorno.\n",
    "                ret.append(found)\n",
    "            else:\n",
    "                # Si no se guarda el símbolo (en formato (L, D) tal y como especifica el enunciado).\n",
    "                ret.append(self.__ld_to_bin(1, 1, useLD))\n",
    "            offset -= -flen\n",
    "        # Si al acabar quedan bits fuera de las ventanas, se añaden al final de la cadena.\n",
    "        if offset < len(m):\n",
    "            ret.append(m[offset + self.wsld:])\n",
    "        if useLD:\n",
    "            return ret\n",
    "        return \"\".join(ret)\n",
    "    \n",
    "    def uncompress_bin(self, m):\n",
    "        \"\"\"\n",
    "        Descompresión de una string binaria a partir de la configuración del compresor.\n",
    "        \"\"\"\n",
    "        ret = m[:self.wsld]\n",
    "        div = [m[i:i+self.wsld_b+self.win_b] for i in range(self.wsld, len(m), self.wsld_b + self.win_b)]\n",
    "        lf = lambda x: 2**self.win_b if x == 0 else x\n",
    "        df = lambda x: 2**self.wsld_b if x == 0 else x\n",
    "        while div:\n",
    "            c = div.pop(0)\n",
    "            if len(c) < self.wsld_b + self.win_b:\n",
    "                ret = ret + c\n",
    "            else:\n",
    "                l, d = lf(int(c[:self.win_b], 2)), df(int(c[self.win_b:], 2))\n",
    "                ret = ret + ret[len(ret) - d: len(ret) + l - d]\n",
    "        return self.__remove_insertion_bits(ret)\n",
    "    \n",
    "    def __add_insertion_bits(self, m):\n",
    "        \"\"\"\n",
    "        Aplica método de inserción de bit para las entradas con un solo carácter.\n",
    "        \"\"\"\n",
    "        asd = [m[i:i + self.wsld - 1] for i in range(0, len(m), self.wsld - 1)]\n",
    "        opposite = lambda x: \"0\" if x == \"1\" else \"1\"\n",
    "        for i in range(len(asd)):\n",
    "            if asd[i] == asd[i][0] * len(asd[i]) and len(asd[i]) == self.wsld - 1:\n",
    "                asd[i] = asd[i] + opposite(asd[i][0])\n",
    "        return \"\".join(asd)\n",
    "    \n",
    "    def __remove_insertion_bits(self, m):\n",
    "        \"\"\"\n",
    "        Desaplica método de inserción de bit para las entradas con un solo carácter.\n",
    "        \"\"\"\n",
    "        opposite = lambda x: \"0\" if x == \"1\" else \"1\"\n",
    "        for i in range(0, len(m), self.wsld):\n",
    "            p = m[i:i + self.wsld]\n",
    "            if p[:-1] == p[0] * len(p[:-1]) and p[-1] == opposite(p[0]):\n",
    "                m = m[:i + self.wsld-1] + m[i+self.wsld:]\n",
    "        return m\n",
    "    \n",
    "    def __text_to_bin(self, m):\n",
    "        return \"\".join([bin(i)[2:].zfill(8) for i in bytearray(m, \"utf-8\")])\n",
    "    \n",
    "    def __bin_to_text(self, b):\n",
    "        return \"\".join([chr(int(b[i:i+8], 2)) for i in range(0, len(b), 8)])\n",
    "    \n",
    "    def compress_text(self, m):\n",
    "        startTime = time.time()\n",
    "        b = self.__text_to_bin(m)\n",
    "        c = self.compress_bin(b)\n",
    "        print(\"[Info] Compression took {} seconds\".format(time.time() - startTime))\n",
    "        return c\n",
    "    \n",
    "    def uncompress_text(self, m):\n",
    "        startTime = time.time()\n",
    "        uBin = self.uncompress_bin(m)\n",
    "        u = self.__bin_to_text(uBin)\n",
    "        print(\"[Info] Uncompression took {} seconds\".format(time.time() - startTime))\n",
    "        return u\n",
    "    \n",
    "    def compress_text_from_file(self, fn):\n",
    "        with open(fn, \"r\") as f:\n",
    "            text = f.read()\n",
    "        f.close()\n",
    "        return self.compress_text(text)"
   ]
  },
  {
   "cell_type": "markdown",
   "metadata": {},
   "source": [
    "#### [Apartado 1] Modificar el compresor para que sea capaz de leer ficheros de texto y devolverlos como una string binaria procesable por vustro compresor LZZ7. Ha de calcular el tiempo de compresión y descompresión. Comprobad el correcto funcionamiento del programa."
   ]
  },
  {
   "cell_type": "code",
   "execution_count": 35,
   "metadata": {},
   "outputs": [
    {
     "name": "stdout",
     "output_type": "stream",
     "text": [
      "[Info] Compression took 0.0070018768310546875 seconds\n",
      "[Info] Uncompression took 0.0010004043579101562 seconds\n",
      "\n",
      "Compressed:\t010010011001001001111000101001001100100010100111100001001011011100000011100100100111001011111010010100100000000001110100000101001111000000111110000011100010100100111000001111110111110001010000010010000001101101011010010000000000111010011111011110111001011111100001001011011000001101111101101000100110010110001101100101111001110100000000001101110011010101101111000001110000011011000001110010010001011010011011011110100101001101000000011111101001010110110100111001011111010010100110100000001110110011100100000010010000000011100000100110101001001100100011000000011111100010100101011101111111000000000000000010111010010011001010011010111010010100100000000001110100000110110010110011111000000010100101011101111100111100000011011000000000000000111010000011011111000000011100001011001110010111110100101001101000000011111101001010110110100111001011111010010100100101000001010001010010010000011000111001001111000111000000010010000001001110100001011010010111000000010111100100111001011111010010100110100000000011100000001101011011000111000101001001100100010100111100001001000000001101011011000001000101100100101001001000101101001101101111100001001000000001101011000000111101010000101001110111100000101101101100000111110100101001000000000011101000000011011101110111010000000101001010110011001001111010111110001001110010100001001001101010011001000111000001111110011001011110011101000001010010010000000110011111110000011100101100111001011111010010100110100000001111110100101011011010011100100011100101000001100011110100101001010011000001101111011111011111111110101001010111111001001111010111000001011011000101001110111100100111001011111010010100100000110001101100101001000101001001110001110010010000001001110100001011010010111110000011111101111100000011000110110100110010001010011101001010010000000000111010000011011001011001111100000001010010101110111110011110000001101100000000000000001011001101100010100111110000000101111001001110010111110100101001101000000000111000001111010011100101000010010011011100011011101001101101111000001011011000101001111111000001110010110011100101111110000110110010101011001100000010011101000010110100101111100011101101100000011011010010000000000111010011111011110111001011111100001101100101001100000000000010011100000111111011101110011010010000000110110001110001010010011100011100100100000011000101000010100111011110000011100000001001110010100001001001101000001101110100000000000001100000001010010011001010011010111100001001000000110001010000101101000100110010110001110010010001011010011011011111000010011001011001100100111011110000111010010100111101000000011110010000001010000000110001001000000100111010000000101001001011000101001111111000101001111011000111000101001001110000011111101110111010000000000000110001001101100000000000111001101111000010101101100000101001101100111101001001001010100111100011100010011111011100001111010000000110001001011000101001111100100111010011100100111001010111111111010000010010000001100011101111000000000000100100100100000111010000010100001\n",
      "\n",
      "Uncompressed:\tIt is practically impossible to teach good programming to students that have had a prior exposure to BASIC: as potential programmers they are mentally mutilated beyond hope of regeneration. - Edsger Dijkstra\n"
     ]
    }
   ],
   "source": [
    "comp = LZZ7Compressor(4, 8)\n",
    "msg = \"It is practically impossible to teach good programming to students that have had a prior exposure to BASIC: as potential programmers they are mentally mutilated beyond hope of regeneration. - Edsger Dijkstra\"\n",
    "asd = comp.compress_text(msg)\n",
    "print(\"\\nCompressed:\\t{}\\n\\nUncompressed:\\t{}\".format(asd, comp.uncompress_text(asd)))"
   ]
  },
  {
   "cell_type": "markdown",
   "metadata": {},
   "source": [
    "## -> Se deben usar los ficheros 'txt' adjuntos a este notebook (se han eliminado un par de espacios innecesarios y problematicos al codificar)."
   ]
  },
  {
   "cell_type": "markdown",
   "metadata": {},
   "source": [
    "#### [Apartado 2] Comprimir fichero \"hamlet_short.txt\""
   ]
  },
  {
   "cell_type": "code",
   "execution_count": 36,
   "metadata": {},
   "outputs": [
    {
     "name": "stdout",
     "output_type": "stream",
     "text": [
      "[Info] Compression took 0.04301881790161133 seconds\n",
      "[Info] Uncompression took 0.009002447128295898 seconds\n",
      "\n",
      " BERNARDO Who's there?\n",
      "FRANCISCO Nay, answer me: stand, and unfold yourself.\n",
      "BERNARDO Long live the king!\n",
      "FRANCISCO Bernardo?\n",
      "BERNARDO He.\n",
      "FRANCISCO You come most carefully upon your hour.\n",
      "BERNARDO 'Tis now struck twelve; get thee to bed, Francisco.\n",
      "FRANCISCO For this relief much thanks: 'tis bitter cold, And I am sick at heart.\n",
      "BERNARDO Have you had quiet guard?\n",
      "FRANCISCO Not a mouse stirring.\n",
      "BERNARDO Well, good night. If you do meet Horatio and Marcellus, The rivals of my watch, bid them make haste.\n",
      "FRANCISCO I think I hear them. Stand, ho! Who's there?\n",
      "\n",
      "Enter HORATIO and MARCELLUS\n",
      "\n",
      "HORATIO Friends to this ground.\n",
      "MARCELLUS And liegemen to the Dane.\n",
      "FRANCISCO Give you good night.\n",
      "MARCELLUS O, farewell, honest soldier: Who hath relieved you?\n",
      "FRANCISCO Bernardo has my place. Give you good night.\n",
      "\n",
      "Exit\n",
      "\n",
      "MARCELLUS Holla! Bernardo!\n",
      "BERNARDO Say, What, is Horatio there?\n",
      "HORATIO A piece of him.\n",
      "BERNARDO Welcome, Horatio: welcome, good Marcellus.\n",
      "MARCELLUS What, has this thing appear'd again to-night?\n",
      "BERNARDO I have seen nothing.\n",
      "\n",
      "\n"
     ]
    }
   ],
   "source": [
    "fname = \"hamlet_short.txt\"\n",
    "asd = comp.compress_text_from_file(fname)\n",
    "print(\"\\n\", comp.uncompress_text(asd))"
   ]
  },
  {
   "cell_type": "markdown",
   "metadata": {},
   "source": [
    "#### [Apartado 3] Comprimir fichero \"quijote_short.txt\""
   ]
  },
  {
   "cell_type": "code",
   "execution_count": 37,
   "metadata": {},
   "outputs": [
    {
     "name": "stdout",
     "output_type": "stream",
     "text": [
      "[Info] Compression took 0.03600001335144043 seconds\n",
      "[Info] Uncompression took 0.009001731872558594 seconds\n",
      "\n",
      " En un lugar de la Mancha, de cuyo nombre no quiero acordarme, no ha mucho tiempo que vivÃ­a un hidalgo de los de lanza en astillero, adarga antigua, rocÃ­n flaco y galgo corredor.\n",
      "Una olla de algo mÃ¡s vaca que carnero, salpicÃ³n las mÃ¡s noches, duelos y quebrantos los sÃ¡bados, lentejas los viernes, algÃºn palomino de aÃ±adidura los domingos, consumÃ­an las tres partes de su hacienda.\n",
      "El resto della concluÃ­an sayo de velarte, calzas de velludo para las fiestas con sus pantuflos de lo mismo, los dÃ­as de entre semana se honraba con su vellori de lo mÃ¡s fino.\n",
      "TenÃ­a en su casa una ama que pasaba de los cuarenta, y una sobrina que no llegaba a los veinte, y un mozo de campo y plaza, que asÃ­ ensillaba el rocÃ­n como tomaba la podadera.\n",
      "Frisaba la edad de nuestro hidalgo con los cincuenta aÃ±os, era de complexiÃ³n recia, seco de carnes, enjuto de rostro; gran madrugador y amigo de la caza.\n",
      "Quieren decir que tenÃ­a el sobrenombre de Quijada o Quesada(que en esto hay alguna diferencia en los autores que deste caso escriben).\n"
     ]
    }
   ],
   "source": [
    "fname = \"quijote_short.txt\"\n",
    "asd = comp.compress_text_from_file(fname)\n",
    "print(\"\\n\", comp.uncompress_text(asd))"
   ]
  }
 ],
 "metadata": {
  "kernelspec": {
   "display_name": "Python 3",
   "language": "python",
   "name": "python3"
  },
  "language_info": {
   "codemirror_mode": {
    "name": "ipython",
    "version": 3
   },
   "file_extension": ".py",
   "mimetype": "text/x-python",
   "name": "python",
   "nbconvert_exporter": "python",
   "pygments_lexer": "ipython3",
   "version": "3.8.3"
  }
 },
 "nbformat": 4,
 "nbformat_minor": 4
}
