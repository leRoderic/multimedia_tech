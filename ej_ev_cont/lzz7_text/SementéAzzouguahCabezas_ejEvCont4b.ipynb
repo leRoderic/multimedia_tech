{
 "cells": [
  {
   "cell_type": "markdown",
   "metadata": {},
   "source": [
    "# Ejercicio EvCont4 (b) - Compresión de texto con LZZ7"
   ]
  },
  {
   "cell_type": "markdown",
   "metadata": {},
   "source": [
    "* Óscar Sementé Solà\n",
    "* Abdelkarim Azzouguagh Ouniri\n",
    "* Rodrigo Cabezas Quirós"
   ]
  },
  {
   "cell_type": "code",
   "execution_count": 50,
   "metadata": {},
   "outputs": [],
   "source": [
    "import math, re, time\n",
    "\n",
    "class LZZ7Compressor:\n",
    "    \n",
    "    def __init__(self, win, wsld):\n",
    "        self.win = win\n",
    "        self.wsld = wsld\n",
    "        self.win_b = int(math.log2(win))\n",
    "        self.wsld_b = int(math.log2(wsld))\n",
    "    \n",
    "    def __is_power_of_two(self, v):\n",
    "        return math.log2(v).is_integer()\n",
    "    \n",
    "    def __ld_to_bin(self, l, d, useLD):\n",
    "        \"\"\"\n",
    "        Transforma (L, D) a formato binario de longitud fija.\n",
    "        \"\"\"\n",
    "        b_win = lambda x : ''.join(reversed( [str((x >> i) & 1) for i in range(self.win_b)]))\n",
    "        b_wsld = lambda x : ''.join(reversed( [str((x >> i) & 1) for i in range(self.wsld_b)]))\n",
    "        if useLD:\n",
    "            return (l, d)\n",
    "        return b_win(l) + b_wsld(d)\n",
    "    \n",
    "    def __match_pattern(self, slide, inp, useLD):\n",
    "        \"\"\"\n",
    "        Busca un patrón de la ventana de entrada en la ventana deslizante. Si lo encuentra devuelve\n",
    "        (L, D) en decimal o en formato binario (según valor de 'useLD') y la longitud del patrón\n",
    "        encontrado. Si no lo encuentra devuelve False y 1 (incremento del offset).\n",
    "        \"\"\"\n",
    "        occ, seqs = [], [inp[:i] for i in range(len(inp), 0, -1)]\n",
    "        while seqs:\n",
    "            current = seqs.pop(0)\n",
    "            occ = [(x.start(0), x.end(0)) for x in re.finditer(current, slide)]\n",
    "            if occ:\n",
    "                si, ei = occ[-1]\n",
    "                return self.__ld_to_bin(len(slide[si:ei]), len(slide) - si, useLD), ei - si\n",
    "        return False, 1\n",
    "    \n",
    "    def compress_bin(self, m, useLD=False):\n",
    "        \"\"\"\n",
    "        Compresión de una string binaria a partir de la configuración del compresor.\n",
    "        \"\"\"\n",
    "        if not self.win <= self.wsld and not len(m) >= self.win + self.wsld:\n",
    "            \"\"\"\n",
    "            Que los bits de conf. sean potencia de 2 no tiene ningún sentido. El ejercicio evaluado en\n",
    "            clase tenía por parametros 8 y 6 bits. Aplicando la norma de la potencia de 2, con 6 bits no\n",
    "            funcionaria el algoritmo. Así que hemos aplicado esta política.\n",
    "            or \\ not self.__is_power_of_two(self.win) \\ or not self.__is_power_of_two(self.wsld):\n",
    "            \"\"\"\n",
    "            return -1\n",
    "        # Se aplica método de inserción de bit, para los casos problematicos.\n",
    "        offset, m = 0, self.__add_insertion_bits(m)\n",
    "        ret = [m[:self.wsld]]\n",
    "        while offset + self.wsld + self.win <= len(m):\n",
    "            # Búsqueda de patrón de la ventana de entrada en la deslizante.\n",
    "            slide = m[offset:offset + self.wsld]\n",
    "            inp = m[offset + self.wsld:offset + self.wsld + self.win]\n",
    "            found, flen = self.__match_pattern(slide, inp, useLD)\n",
    "            if found:\n",
    "                # Si se encuentra se añade al retorno.\n",
    "                ret.append(found)\n",
    "            else:\n",
    "                # Si no se guarda el símbolo (en formato (L, D) tal y como especifica el enunciado).\n",
    "                ret.append(self.__ld_to_bin(1, 1, useLD))\n",
    "            offset -= -flen\n",
    "        # Si al acabar quedan bits fuera de las ventanas, se añaden al final de la cadena.\n",
    "        if offset < len(m):\n",
    "            ret.append(m[offset + self.wsld:])\n",
    "        if useLD:\n",
    "            return ret\n",
    "        return \"\".join(ret)\n",
    "    \n",
    "    def uncompress_bin(self, m):\n",
    "        \"\"\"\n",
    "        Descompresión de una string binaria a partir de la configuración del compresor.\n",
    "        \"\"\"\n",
    "        ret = m[:self.wsld]\n",
    "        div = [m[i:i+self.wsld_b+self.win_b] for i in range(self.wsld, len(m), self.wsld_b + self.win_b)]\n",
    "        lf = lambda x: 2**self.win_b if x == 0 else x\n",
    "        df = lambda x: 2**self.wsld_b if x == 0 else x\n",
    "        while div:\n",
    "            c = div.pop(0)\n",
    "            if len(c) < self.wsld_b + self.win_b:\n",
    "                ret = ret + c\n",
    "            else:\n",
    "                l, d = lf(int(c[:self.win_b], 2)), df(int(c[self.win_b:], 2))\n",
    "                ret = ret + ret[len(ret) - d: len(ret) + l - d]\n",
    "        return self.__remove_insertion_bits(ret)\n",
    "    \n",
    "    def __add_insertion_bits(self, m):\n",
    "        \"\"\"\n",
    "        Aplica método de inserción de bit para las entradas con un solo carácter.\n",
    "        \"\"\"\n",
    "        asd = [m[i:i + self.wsld - 1] for i in range(0, len(m), self.wsld - 1)]\n",
    "        opposite = lambda x: \"0\" if x == \"1\" else \"1\"\n",
    "        for i in range(len(asd)):\n",
    "            if asd[i] == asd[i][0] * len(asd[i]) and len(asd[i]) == self.wsld - 1:\n",
    "                asd[i] = asd[i] + opposite(asd[i][0])\n",
    "        return \"\".join(asd)\n",
    "    \n",
    "    def __remove_insertion_bits(self, m):\n",
    "        \"\"\"\n",
    "        Desaplica método de inserción de bit para las entradas con un solo carácter.\n",
    "        \"\"\"\n",
    "        opposite = lambda x: \"0\" if x == \"1\" else \"1\"\n",
    "        for i in range(0, len(m), self.wsld):\n",
    "            p = m[i:i + self.wsld]\n",
    "            if p[:-1] == p[0] * len(p[:-1]) and p[-1] == opposite(p[0]):\n",
    "                m = m[:i + self.wsld-1] + m[i+self.wsld:]\n",
    "        return m\n",
    "    \n",
    "    def __text_to_bin(self, m):\n",
    "        return \"\".join([bin(i)[2:].zfill(8) for i in bytearray(m, \"utf-8\")])\n",
    "    \n",
    "    def __bin_to_text(self, b):\n",
    "        return \"\".join([chr(int(b[i:i+8], 2)) for i in range(0, len(b), 8)])\n",
    "    \n",
    "    def compress_text(self, m):\n",
    "        startTime = time.time()\n",
    "        b = self.__text_to_bin(m)\n",
    "        c = self.compress_bin(b)\n",
    "        print(\"[Info] Compression took {} seconds\".format(time.time() - startTime))\n",
    "        return c\n",
    "    \n",
    "    def uncompress_text(self, m):\n",
    "        startTime = time.time()\n",
    "        uBin = self.uncompress_bin(m)\n",
    "        u = self.__bin_to_text(uBin)\n",
    "        print(\"[Info] Uncompression took {} seconds\".format(time.time() - startTime))\n",
    "        return u\n",
    "    \n",
    "    def compress_text_from_file(self, fn):\n",
    "        with open(fn, \"r\") as f:\n",
    "            text =  f.read()\n",
    "        f.close()\n",
    "        return self.compress_text(text)"
   ]
  },
  {
   "cell_type": "markdown",
   "metadata": {},
   "source": [
    "#### Apartado 1] Modificar el compresor para que sea capaz de leer ficheros de texto y devolverlos como una string binaria procesable por vustro compresor LZZ7. Ha de calcular el tiempo de compresión y descompresión. Comprobad el correcto funcionamiento del programa."
   ]
  },
  {
   "cell_type": "code",
   "execution_count": 65,
   "metadata": {},
   "outputs": [
    {
     "name": "stdout",
     "output_type": "stream",
     "text": [
      "[Info] Compression took 0.007001638412475586 seconds\n",
      "[Info] Uncompression took 0.0010001659393310547 seconds\n",
      "\n",
      "Compressed:\t01001001100100100111100010100100110010001010011110000100101101110000001110010010011100101111101001010010000000000111010000010100111100000011111000001110001010010011100000111111011111000101000001001000000110110101101001000000000011101001111101111011100101111110000100101101100000110111110110100010011001011000110110010111100111010000000000110111001101010110111100000111000001101100000111001001000101101001101101111010010100110100000001111110100101011011010011100101111101001010011010000000111011001110010000001001000000001110000010011010100100110010001100000001111110001010010101110111111100000000000000001011101001001100101001101011101001010010000000000111010000011011001011001111100000001010010101110111110011110000001101100000000000000011101000001101111100000001110000101100111001011111010010100110100000001111110100101011011010011100101111101001010010010100000101000101001001000001100011100100111100011100000001001000000100111010000101101001011100000001011110010011100101111101001010011010000000001110000000110101101100011100010100100110010001010011110000100100000000110101101100000100010110010010100100100010110100110110111110000100100000000110101100000011110101000010100111011110000010110110110000011111010010100100000000001110100000001101110111011101000000010100101011001100100111101011111000100111001010000100100110101001100100011100000111111001100101111001110100000101001001000000011001111111000001110010110011100101111101001010011010000000111111010010101101101001110010001110010100000110001111010010100101001100000110111101111101111111111010100101011111100100111101011100000101101100010100111011110010011100101111101001010010000011000110110010100100010100100111000111001001000000100111010000101101001011111000001111110111110000001100011011010011001000101001110100101001000000000011101000001101100101100111110000000101001010111011111001111000000110110000000000000000101100110110001010011111000000010111100100111001011111010010100110100000000011100000111101001110010100001001001101110001101110100110110111100000101101100010100111111100000111001011001110010111111000011011001010101100110000001001110100001011010010111110001110110110000001101101001000000000011101001111101111011100101111110000110110010100110000000000001001110000011111101110111001101001000000011011000111000101001001110001110010010000001100010100001010011101111000001110000000100111001010000100100110100000110111010000000000000110000000101001001100101001101011110000100100000011000101000010110100010011001011000111001001000101101001101101111100001001100101100110010011101111000011101001010011110100000001111001000000101000000011000100100000010011101000000010100100101100010100111111100010100111101100011100010100100111000001111110111011101000000000000011000100110110000000\n",
      "\n",
      "Uncompressed:\tIt is practically impossible to teach good programming to students that have had a prior exposure to BASIC: as potential programmers they are mentally mutilated beyond hope of regeneration.\n"
     ]
    }
   ],
   "source": [
    "comp = LZZ7Compressor(4, 8)\n",
    "msg = \"It is practically impossible to teach good programming to students that have had a prior exposure to BASIC: as potential programmers they are mentally mutilated beyond hope of regeneration.\"\n",
    "asd = comp.compress_text(msg)\n",
    "print(\"\\nCompressed:\\t{}\\n\\nUncompressed:\\t{}\".format(asd, comp.uncompress_text(asd)))"
   ]
  },
  {
   "cell_type": "code",
   "execution_count": 57,
   "metadata": {},
   "outputs": [
    {
     "name": "stdout",
     "output_type": "stream",
     "text": [
      "[Info] Compression took 0.03600263595581055 seconds\n",
      "[Info] Uncompression took 0.009000539779663086 seconds\n"
     ]
    },
    {
     "data": {
      "text/plain": [
       "'BERNARDO Who\\'s there?\\nFRANCISCO Nay, answer me: stand, and unfold yourself.\\nBERNARDO Long live the king!\\nFRANCISCO Bernardo?\\nBERNARDO He.\\nFRANCISCO You come most carefully upon your hour.\\nBERNARDO \\'Tis now struck twelve; get thee to bed, Francisco.\\nFRANCISCO For this relief much thanks: \\'tis bitter cold, And I am sick at heart.\\nBERNARDO Have you had quiet guard?\\nFRANCISCO Not a mouse stirring. %!\"©\\' ©\"\\'\\x90+²¶6\\x16\\x103··²\\x1074³´:\\x17\\x10$³\\x10<·º\\x9027\\x906²²º\\x10$7¹0º4·\\x900·2\\x10&°¹1²¶6:¹\\x96\\x10*42\\x9094»0¶9\\x907³\\x106¼\\x90;°º1´\\x16\\x1014²\\x10:42¶\\x906°µ²\\x9040¹º2\\x97\\x05#) §!¤©¡§\\x90$\\x90:44·5\\x90$\\x9042°¹\\x10:42¶\\x97\\x10)º0·2\\x16\\x1047\\x90\\x90+´7\\x93¹\\x90:42¹2\\x9f\\x85\\x05\"·:2¹\\x10$\\'© ª$§\\x900·2\\x10&\\xa0©!¢¦&*©\\x85\\x05$\\'© ª$§\\x90#94²·29\\x90:7\\x90:44¹\\x903¹7º·2\\x17\\x05&\\xa0©!¢¦&*©\\x90 ·2\\x1064²³²¶²·\\x10:7\\x90:42\\x90\"0·2\\x97\\x05#) §!¤©¡§\\x90#´»2\\x90<·º\\x903··²\\x1074³´:\\x17\\x05&\\xa0©!¢¦&*©\\x90\\'\\x96\\x1030¹2»²¶6\\x16\\x1047·2¹º\\x109·¶24²¹\\x1d\\x10+´7\\x9040º4\\x1092¶4²»2²\\x10<·º\\x9f\\x85#) §!¤©¡§\\x90!2¹70¹27\\x9040¹\\x906¼\\x90860±²\\x97\\x10#´»2\\x90<·º\\x903··²\\x1074³´:\\x17\\x05\\x05\"¼4º\\x05\\x05&\\xa0©!¢¦&*©\\x90$7¶60\\x90\\x90!2¹70¹27\\x90\\x85!\"©\\' ©\"\\'\\x90)°¼\\x96\\x10+´0º\\x16\\x104¹\\x90$7¹0º4·\\x90:42¹2\\x9f\\x85$\\'© ª$§\\x90 \\x9084²±²\\x907³\\x1044¶\\x97\\x05!\"©\\' ©\"\\'\\x90+²¶1·¶²\\x96\\x10$7¹0º4·\\x9d\\x10;²¶1·¶²\\x96\\x103··²\\x10&°¹1²¶6:¹\\x97\\x05&\\xa0©!¢¦&*©\\x90+´0º\\x16\\x1040¹\\x90:44¹\\x90:44·3\\x900¸82°¹\\x13²\\x100³°´·\\x10:7\\x96·4³´:\\x1f\\x85!\"©\\' ©\"\\'\\x90$\\x9040»2\\x909²²·\\x1077º44·3\\x97\\x05\\x05\\x00'"
      ]
     },
     "execution_count": 57,
     "metadata": {},
     "output_type": "execute_result"
    }
   ],
   "source": [
    "fname = \"hamlet_short.txt\"\n",
    "asd = comp.compress_text_from_file(fname)\n",
    "comp.uncompress_text(asd)"
   ]
  },
  {
   "cell_type": "code",
   "execution_count": 53,
   "metadata": {},
   "outputs": [
    {
     "name": "stdout",
     "output_type": "stream",
     "text": [
      "[Info] Compression took 0.03618574142456055 seconds\n",
      "[Info] Uncompression took 0.008816957473754883 seconds\n",
      "En un lugar de la Mancha, de cuyo nombre no quiero acordarme, no ha mucho tiempo que vivÃ­a un hidalgo de los de lanza en astillero, adarga antigua, rocÃ­n flaco y galgo corredor. %*·07¶60220¶3·6áÐ¹;0±°8º²1°¹72¹7\u00109°¶84±áÙ·\u001060¹6áÐ¹77±´2¹\u00102:²¶7¹<8º²±90·:7¹67¹9áÐ±0²7¹\u001062·:2µ0¹67¹;4²¹72¹\u00100¶3áÝ7\u001080¶7¶´·7220áØ°²4²:¹067¹27¶´·3·¹\u00101··9º¶áÖ°·\u001060¹:92¹80¹:2¹229º40±´²·20\u0010\u0000\u0000\u0000\u0000\u0000\u0000\u0000\u0000\u0000\u0000\u0000\u0000\u0000\u0000\u0000\u0000\u0000\u0000\u0000\u0000\u0000\u0000\u0000\u0000\u0000\u0000\u0000\u0000\u0000\u0000\u0000\u0000\u0000\u0000\u0000\u0000\u0000\u0000\u0000\u0000\u0000\u0000\u0000\u0000\u0000\u0000\u0000\u0000\u0000\u0000\u0000\u0000\u0000\u0000\u0000\u0000\u0000\u0000\u0000\u0000\u0000\u0000\u0000\u0000\u0000\u0000\u0000\u0000\u0000\u0000\u0000\u0000\u0000\u0000\u0000\u0000\u0000\u0000\u0000\u0000\u0000\u0000\u0000\u0000\u0000\u0000\u0000\u0000\u0000\u0000\u0000\u0000\u0000\u0000\u0000\u0000\u0000\u0000\u0000\u0000\u0000\u0000\u0000\u0000\u0000\u0000\u0000\u0000\u0000\u0000\u0000\u0000\u0000\u0000\u0000\u0000\u0000\u0000\u0000\u0000\u0000\u0000\u0000\u0000\u0000\u0000\u0000\u0000\u0000\u0000\u0000\u0000\u0000\u0000\u0000\u0000\u0000\u0000\u0000\u0000\u0000\u0000\u0000\u0000\u0000\u0000\u0000\u0000\u0000\u0000\u0000\u0000\u0000\u0000\u0000\u0000\u0000\u0000\u0000\u0000\u0000\u0000\u0000\u0000\u0000\u0000\u0000\u0000\u0000\u0000\u0000\u0000\u0000\u0000\u0000\u0000\u0000\u0000\u0000\u0000\u0000\u0000\u0000\u0000\u0000\u0000\u0000\u0000\u0000\u0000\u0000\u0000\u0000\u0000\u0000\u0000\u0000\u0000\u0000\u0000\u0000\u0000\u0000\u0000\u0000\u0000\u0000\u0000\u0000\u0000\u0000\u0000\u0000\u0000\u0000\u0000\u0000\u0000\u0000\u0000\u0000\u0000\u0000\u0000\u0000\u0000\u0000\u0000\u0000\u0000\u0000\u0000\u0000\u0000\u0000\u0000\u0000\u0000\u0000\u0000\u0000\u0000\u0000\u0000\u0000\u0000\u0000\u0000\u0000\u0000\u0000\u0000\u0000\u0000\u0000\u0000\u0000\u0000\u0000\u0000\u0000\u0000\u0000\u0000\u0000\u0000\u0000\u0000\u0000\u0000\u0000\u0000\u0000\u0000\u0000\u0000\u0000\u0000\u0000\u0000\u0000\u0000\u0000\u0000\u0000\u0000\u0000\u0000\u0000\u0000\u0000\u0000\u0000\u0000\u0000\u0000\u0000\u0000\u0000\u0000\u0000\u0000\u0000\u0000\u0000\u0000\u0000\u0000\u0000\u0000\u0000\u0000\u0000\u0000\u0000\u0000\u0000\u0000\u0000\u0000\u0000\u0000\u0000\u0000\u0000\u0000\u0000\u0000\u0000\u0000\u0000\u0000\u0000\u0000\u0000\u0000\u0000\u0000\u0000\u0000\u0000\u0000\u0000\u0000\u0000\u0000\u0000\u0000\u0000\u0000\u0000\u0000\u0000\u0000\u0000\u0000\u0000\u0000\u0000\u0000\u0000\u0000\u0000\u0000\u0000\u0000\u0000\u0000\u0000\u0000\u0000\u0000\u0000\u0000\u0000\u0000\u0000\u0000\u0000\u0000\u0000\u0000\u0000\u0000\u0000\u0000\u0000\u0000\u0000\u0000\u0000\u0000\u0000\u0000\u0000\u0000\u0000\u0000\u0000\u0000\u0000\u0000\u0000\u0000\u0000\u0000\u0000\u0000\u0000\u0000\u0000\u0000\u0000\u0000\u0000\u0000\u0000\u0000\u0000\u0000\u0000\u0000\u0000\u0000\u0000\u0000\u0000\u0000\u0000\u0000\u0000\u0000\u0000\u0000\u0000\u0000\u0000\u0000\u0000\u0000\u0000\u0000\u0000\u0000\u0000\u0000\u0000\u0000\u0000\u0000\u0000\u0000\u0000\u0000\u0000\u0000\u0000\u0000\u0000\u0000\u0000\u0000\u0000\u0000\u0000\u0000\u0000\u0000\u0000\u0000\u0000\u0000\u0000\u0000\u0000\u0000\u0000\u0000\u0000\u0000\u0000\u0000\u0000\u0000\u0000\u0000\u0000\u0000\u0000\u0000\u0000\u0000\u0000\u0000\u0000\u0000\u0000\u0000\u0000\u0000\u0000\u0000\u0000\u0000\u0000\u0000\u0000\u0000\u0000\u0000\u0000\u0000\u0000\u0000\u0000\u0000\u0000\u0000\u0000\u0000\u0000\u0000\u0000\u0000\u0000\u0000\u0000\u0000\u0000\u0000\u0000\u0000\u0000\u0000\u0000\u0000\u0000\u0000\u0000\u0000\u0000\u0000\u0000\u0000\u0000\u0000\u0000\u0000\u0000\u0000\u0000\u0000\u0000\u0000\u0000\u0000\u0000\u0000\u0000\u0000\u0000\u0000\u0000\u0000\u0000\u0000\u0000\u0000\u0000\u0000\u0000\u0000\u0000\u0000\u0000\u0000\u0000\u0000\u0000\u0000\u0000\u0000\u0000\u0000\u0000\u0000\u0000\u0000\u0000\u0000\u0000\u0000\u0000\u0000\u0000\u0000\u0000\u0000\u0000\u0000\u0000\u0000\u0000\u0000\u0000\u0000\u0000\u0000\u0000\u0000\u0000\u0000\u0000\u0000\u0000\u0000\u0000\u0000\u0000\u0000\u0000\u0000\u0000\u0000\u0000\u0000\u0000\u0000\u0000\u0000\u0000\u0000\u0000\u0000\u0000\u0000\u0000\u0000\u0000\u0000\u0000\u0000\u0000\u0000\u0000\u0000\u0000\u0000\u0000\u0000\u0000\u0000\u0000\u0006\n"
     ]
    }
   ],
   "source": [
    "fname = \"quijote_short.txt\"\n",
    "asd = comp.compress_text_from_file(fname)\n",
    "print(comp.uncompress_text(asd))"
   ]
  },
  {
   "cell_type": "code",
   "execution_count": null,
   "metadata": {},
   "outputs": [],
   "source": []
  }
 ],
 "metadata": {
  "kernelspec": {
   "display_name": "Python 3",
   "language": "python",
   "name": "python3"
  },
  "language_info": {
   "codemirror_mode": {
    "name": "ipython",
    "version": 3
   },
   "file_extension": ".py",
   "mimetype": "text/x-python",
   "name": "python",
   "nbconvert_exporter": "python",
   "pygments_lexer": "ipython3",
   "version": "3.8.3"
  }
 },
 "nbformat": 4,
 "nbformat_minor": 4
}
