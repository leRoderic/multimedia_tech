{
 "cells": [
  {
   "cell_type": "markdown",
   "metadata": {},
   "source": [
    "# Ejercicio EvCont4 (a) - Compresión LZZ7"
   ]
  },
  {
   "cell_type": "markdown",
   "metadata": {},
   "source": [
    "* Óscar Sementé Solà\n",
    "* Abdelkarim Azzouguagh Ouniri\n",
    "* Rodrigo Cabezas Quirós"
   ]
  },
  {
   "cell_type": "code",
   "execution_count": 38,
   "metadata": {},
   "outputs": [
    {
     "data": {
      "text/plain": [
       "[(0, 4), (15, 19)]"
      ]
     },
     "execution_count": 38,
     "metadata": {},
     "output_type": "execute_result"
    }
   ],
   "source": [
    "import re\n",
    "[(m.start(0), m.end(0)) for m in re.finditer(\"1101\", msg)]\n",
    "#re.findall(r\"1101\", msg)"
   ]
  },
  {
   "cell_type": "code",
   "execution_count": 39,
   "metadata": {},
   "outputs": [
    {
     "ename": "SyntaxError",
     "evalue": "unexpected EOF while parsing (<ipython-input-39-6f90ecf5e771>, line 26)",
     "output_type": "error",
     "traceback": [
      "\u001b[1;36m  File \u001b[1;32m\"<ipython-input-39-6f90ecf5e771>\"\u001b[1;36m, line \u001b[1;32m26\u001b[0m\n\u001b[1;33m    \u001b[0m\n\u001b[1;37m    ^\u001b[0m\n\u001b[1;31mSyntaxError\u001b[0m\u001b[1;31m:\u001b[0m unexpected EOF while parsing\n"
     ]
    }
   ],
   "source": [
    "import math, re\n",
    "\n",
    "class LZZ7Compressor:\n",
    "    \n",
    "    def __init__(self, win, wsld):\n",
    "        self.win = win\n",
    "        self.wsld = wsld\n",
    "        self.win_b = int(math.log2(win))\n",
    "        self.wsld_b = int(math.log2(wsld))\n",
    "    \n",
    "    def __is_power_of_two(v):\n",
    "        return math.log2(v).is_integer()\n",
    "    \n",
    "    def __ld_to_bin(self, l, d):\n",
    "        b_win = lambda x : ''.join(reversed( [str((x >> i) & 1) for i in range(self.win_b)]))\n",
    "        b_wsld = lambda x : ''.join(reversed( [str((x >> i) & 1) for i in range(self.wsld_b)]))\n",
    "        return b_win(l) + b_wsld(d)\n",
    "        \n",
    "    def compress(m):\n",
    "        if self.win > self.wsld or len(m) < self.win + self.wsld or not self.__is_power_of_two(self.win) \\\n",
    "            or not self.__is_power_of_two(self.wsld):\n",
    "            return -1\n",
    "        l1, l2, l3 = 0, self.wsld, self.win\n",
    "        while l3 <= len(m):\n",
    "            occ = [(x.start(0), x.end(0)) for x in re.finditer(\"1101\", msg)]\n",
    "            \n",
    "    "
   ]
  },
  {
   "cell_type": "code",
   "execution_count": 33,
   "metadata": {},
   "outputs": [],
   "source": [
    "msg = \"11011100101001111010100010001\"\n",
    "comp = LZZ7Compressor(4, 8)"
   ]
  },
  {
   "cell_type": "markdown",
   "metadata": {},
   "source": [
    "#### [Apartado 1] Comprobad que el programa comprime y descomprime correctamente una cadena de 25 bits aleatorios con Mdes = 8 y Ment = 4. Ayuda: Podéis generar bits aleatorios con Math.round(Math.random())."
   ]
  },
  {
   "cell_type": "code",
   "execution_count": null,
   "metadata": {},
   "outputs": [],
   "source": []
  },
  {
   "cell_type": "code",
   "execution_count": null,
   "metadata": {},
   "outputs": [],
   "source": []
  },
  {
   "cell_type": "code",
   "execution_count": null,
   "metadata": {},
   "outputs": [],
   "source": []
  },
  {
   "cell_type": "markdown",
   "metadata": {},
   "source": [
    "#### [Apartado 2] Utilizad el programa anterior para determinar si es posible, ajustando los valores de Mdes y Ment, conseguir comprimir datos aleatorios mediante LZ77 (es decir, que la cadena de datos originales sea más larga que la cadena comprimida). ¿Por qué? ¿Cuál es la máxima compresión que lográis? ¿Con qué valores? (Ayuda: utilizad una cadena de datos de entrada de, por lo menos, 10000 bits aleatorios. Ajustad Mdes y Ment entre 2 y 2048)."
   ]
  },
  {
   "cell_type": "code",
   "execution_count": null,
   "metadata": {},
   "outputs": [],
   "source": []
  },
  {
   "cell_type": "code",
   "execution_count": null,
   "metadata": {},
   "outputs": [],
   "source": []
  }
 ],
 "metadata": {
  "kernelspec": {
   "display_name": "Python 3",
   "language": "python",
   "name": "python3"
  },
  "language_info": {
   "codemirror_mode": {
    "name": "ipython",
    "version": 3
   },
   "file_extension": ".py",
   "mimetype": "text/x-python",
   "name": "python",
   "nbconvert_exporter": "python",
   "pygments_lexer": "ipython3",
   "version": "3.8.3"
  }
 },
 "nbformat": 4,
 "nbformat_minor": 4
}
