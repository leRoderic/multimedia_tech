{
 "cells": [
  {
   "cell_type": "markdown",
   "metadata": {},
   "source": [
    "# Ejercicio EvCont4 (a) - Compresión LZZ7"
   ]
  },
  {
   "cell_type": "markdown",
   "metadata": {},
   "source": [
    "* Óscar Sementé Solà\n",
    "* Abdelkarim Azzouguagh Ouniri\n",
    "* Rodrigo Cabezas Quirós"
   ]
  },
  {
   "cell_type": "code",
   "execution_count": 4,
   "metadata": {},
   "outputs": [],
   "source": [
    "import math, re\n",
    "\n",
    "class LZZ7Compressor:\n",
    "    \n",
    "    def __init__(self, win, wsld):\n",
    "        self.win = win\n",
    "        self.wsld = wsld\n",
    "        self.win_b = int(math.log2(win))\n",
    "        self.wsld_b = int(math.log2(wsld))\n",
    "    \n",
    "    def __is_power_of_two(self, v):\n",
    "        return math.log2(v).is_integer()\n",
    "    \n",
    "    def __ld_to_bin(self, l, d, useLD):\n",
    "        \"\"\"\n",
    "        Transforma (L, D) a formato binario de longitud fija.\n",
    "        \"\"\"\n",
    "        b_win = lambda x : ''.join(reversed( [str((x >> i) & 1) for i in range(self.win_b)]))\n",
    "        b_wsld = lambda x : ''.join(reversed( [str((x >> i) & 1) for i in range(self.wsld_b)]))\n",
    "        if useLD:\n",
    "            return (l, d)\n",
    "        return b_win(l) + b_wsld(d)\n",
    "    \n",
    "    def __match_pattern(self, slide, inp, useLD):\n",
    "        \"\"\"\n",
    "        Busca un patrón de la ventana de entrada en la ventana deslizante. Si lo encuentra devuelve\n",
    "        (L, D) en decimal o en formato binario (según valor de 'useLD') y la longitud del patrón\n",
    "        encontrado. Si no lo encuentra devuelve False y 1 (incremento del offset).\n",
    "        \"\"\"\n",
    "        occ, seqs = [], [inp[:i] for i in range(len(inp), 0, -1)]\n",
    "        while seqs:\n",
    "            current = seqs.pop(0)\n",
    "            occ = [(x.start(0), x.end(0)) for x in re.finditer(current, slide)]\n",
    "            if occ:\n",
    "                si, ei = occ[-1]\n",
    "                return self.__ld_to_bin(len(slide[si:ei]), len(slide) - si, useLD), ei - si\n",
    "        return False, 1\n",
    "    \n",
    "    def __add_insertion_bits(self, m):\n",
    "        \"\"\"\n",
    "        Aplica método de inserción de bit para las entradas con un solo carácter.\n",
    "        \"\"\"\n",
    "        asd = [m[i:i + self.wsld - 1] for i in range(0, len(m), self.wsld - 1)]\n",
    "        opposite = lambda x: \"0\" if x == \"1\" else \"1\"\n",
    "        for i in range(len(asd)):\n",
    "            if asd[i] == asd[i][0] * len(asd[i]):\n",
    "                asd[i] = asd[i] + opposite(asd[i][0])\n",
    "        return \"\".join(asd)\n",
    "\n",
    "    def __remove_insertion_bits(self, m):\n",
    "        \"\"\"\n",
    "        Desaplica método de inserción de bit para las entradas con un solo carácter.\n",
    "        \"\"\"\n",
    "        asd = [m[i:i + 8] for i in range(0, len(m), 8)]\n",
    "        opposite = lambda x: \"0\" if x == \"1\" else \"1\"\n",
    "        print(asd)\n",
    "        for i in range(len(asd) - 1):\n",
    "            asd = [m[i:i + 8] for i in range(0, len(m), 8)]\n",
    "            if asd[i][:-1] == asd[i][0] * (len(asd[i]) - 1) and asd[i][-1] == opposite(asd[i][0]) \\\n",
    "            and asd[i + 1][0] == asd[i][0]:\n",
    "                asd[i] = asd[i][:-1] + opposite(asd[i][-1])\n",
    "                asd[i + 1] = asd[i + 1][1:]\n",
    "            m = \"\".join(asd)\n",
    "        return \"\".join(asd)\n",
    "    \n",
    "    def uncompress(self, m):\n",
    "        ret = m[0]\n",
    "        copy = ret\n",
    "        ty = type((1,1))\n",
    "        for i in range(1, len(m)):\n",
    "            if type(m[i]) == ty:\n",
    "                bits = copy[self.wsld-m[i][1]:self.wsld-m[i][1]+m[i][0]]\n",
    "                ret += bits\n",
    "                copy += bits\n",
    "                copy = copy[m[i][0]:]\n",
    "            else:\n",
    "                ret += m[i]\n",
    "        \n",
    "        return self.__remove_insertion_bits(ret)\n",
    "    \n",
    "    def compress(self, m, useLD=False):\n",
    "        \"\"\"\n",
    "        Compresión de una string binaria a partir de la configuración del compresor.\n",
    "        \"\"\"\n",
    "        ret = [m[:self.wsld]]\n",
    "        if not self.win <= self.wsld and not len(m) >= self.win + self.wsld:\n",
    "            \"\"\"\n",
    "            Que los bits de conf. sean potencia de 2 no tiene ningún sentido. El ejercicio evaluado en\n",
    "            clase tenía por parametros 8 y 6 bits. Aplicando la norma de la potencia de 2, con 6 bits no\n",
    "            funcionaria el algoritmo. Así que hemos aplicado esta política.\n",
    "            or \\ not self.__is_power_of_two(self.win) \\ or not self.__is_power_of_two(self.wsld):\n",
    "            \"\"\"\n",
    "            return -1\n",
    "        # Se aplica método de inserción de bit, para los casos problematicos.\n",
    "        offset, m = 0, self.__add_insertion_bits(m)\n",
    "        while offset + self.wsld + self.win <= len(m):\n",
    "            # Búsqueda de patrón de la ventana de entrada en la deslizante.\n",
    "            slide = m[offset:offset + self.wsld]\n",
    "            inp = m[offset + self.wsld:offset + self.wsld + self.win]\n",
    "            found, flen = self.__match_pattern(slide, inp, useLD)\n",
    "            if found:\n",
    "                # Si se encuentra se añade al retorno.\n",
    "                ret.append(found)\n",
    "            else:\n",
    "                # Si no se guarda el símbolo (en formato (L, D) tal y como especifica el enunciado).\n",
    "                ret.append(self.__ld_to_bin(1, 1, useLD))\n",
    "            offset -= -flen\n",
    "        # Si al acabar quedan bits fuera de las ventanas, se añaden al final de la cadena.\n",
    "        if flen < len(inp):\n",
    "            ret.append(inp[flen:])\n",
    "        if useLD:\n",
    "            return ret\n",
    "        return \"\".join(ret)\n",
    "    "
   ]
  },
  {
   "cell_type": "code",
   "execution_count": 19,
   "metadata": {},
   "outputs": [
    {
     "name": "stdout",
     "output_type": "stream",
     "text": [
      "-> Compresión\n",
      "Con (L, D):\t ['11011100', (3, 7), (3, 5), (1, 1), (2, 2), (3, 8), (2, 2), (1, 1), (4, 4), '01']\n",
      "Binario:\t 11011100111111110101001100101100010010010010010001\n",
      "['11011100', '10100111', '10101000', '10001']\n",
      "\n",
      "-> Descompresión\\:\t 11011100101001111010100010001\n",
      "['11011100', '10100111', '10101000', '10001']\n"
     ]
    }
   ],
   "source": [
    "msg = \"11011100101001111010100010001\"\n",
    "comp = LZZ7Compressor(6, 8)\n",
    "print(\"-> Compresión\\nCon (L, D):\\t\", comp.compress(msg, useLD=True))\n",
    "print(\"Binario:\\t\", comp.compress(msg))\n",
    "\n",
    "msg_uncompress = ['11011100', (3, 7), (3, 5), (1, 1), (2, 2), (3, 8), (2, 2), (1, 1), (4, 4), '01']\n",
    "print(\"\\n-> Descompresión\\:\\t\",comp.uncompress(msg_uncompress))\n",
    "# Comprobación con el mensaje original.\n",
    "assert msg == comp.uncompress(msg_uncompress)"
   ]
  },
  {
   "cell_type": "markdown",
   "metadata": {},
   "source": [
    "#### [Apartado 1] Comprobad que el programa comprime y descomprime correctamente una cadena de 25 bits aleatorios con Mdes = 8 y Ment = 4. Ayuda: Podéis generar bits aleatorios con Math.round(Math.random())."
   ]
  },
  {
   "cell_type": "code",
   "execution_count": null,
   "metadata": {},
   "outputs": [],
   "source": []
  },
  {
   "cell_type": "code",
   "execution_count": null,
   "metadata": {},
   "outputs": [],
   "source": []
  },
  {
   "cell_type": "code",
   "execution_count": null,
   "metadata": {},
   "outputs": [],
   "source": []
  },
  {
   "cell_type": "markdown",
   "metadata": {},
   "source": [
    "#### [Apartado 2] Utilizad el programa anterior para determinar si es posible, ajustando los valores de Mdes y Ment, conseguir comprimir datos aleatorios mediante LZ77 (es decir, que la cadena de datos originales sea más larga que la cadena comprimida). ¿Por qué? ¿Cuál es la máxima compresión que lográis? ¿Con qué valores? (Ayuda: utilizad una cadena de datos de entrada de, por lo menos, 10000 bits aleatorios. Ajustad Mdes y Ment entre 2 y 2048)."
   ]
  },
  {
   "cell_type": "code",
   "execution_count": null,
   "metadata": {},
   "outputs": [],
   "source": []
  },
  {
   "cell_type": "code",
   "execution_count": null,
   "metadata": {},
   "outputs": [],
   "source": []
  }
 ],
 "metadata": {
  "kernelspec": {
   "display_name": "Python 3",
   "language": "python",
   "name": "python3"
  },
  "language_info": {
   "codemirror_mode": {
    "name": "ipython",
    "version": 3
   },
   "file_extension": ".py",
   "mimetype": "text/x-python",
   "name": "python",
   "nbconvert_exporter": "python",
   "pygments_lexer": "ipython3",
   "version": "3.8.3"
  }
 },
 "nbformat": 4,
 "nbformat_minor": 4
}
