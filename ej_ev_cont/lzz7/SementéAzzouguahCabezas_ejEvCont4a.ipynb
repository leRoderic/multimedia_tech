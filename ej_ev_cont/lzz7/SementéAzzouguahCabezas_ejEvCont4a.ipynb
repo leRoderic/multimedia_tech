{
 "cells": [
  {
   "cell_type": "markdown",
   "metadata": {},
   "source": [
    "# Ejercicio EvCont4 (a) - Compresión LZZ7"
   ]
  },
  {
   "cell_type": "markdown",
   "metadata": {},
   "source": [
    "* Óscar Sementé Solà\n",
    "* Abdelkarim Azzouguagh Ouniri\n",
    "* Rodrigo Cabezas Quirós"
   ]
  },
  {
   "cell_type": "code",
   "execution_count": 26,
   "metadata": {},
   "outputs": [
    {
     "data": {
      "text/plain": [
       "[(0, 4), (15, 19)]"
      ]
     },
     "execution_count": 26,
     "metadata": {},
     "output_type": "execute_result"
    }
   ],
   "source": [
    "import re\n",
    "msg = \"11011100101001111010100010001\"\n",
    "[(m.start(0), m.end(0)) for m in re.finditer(\"1101\", msg)]\n",
    "#re.findall(r\"1101\", msg)"
   ]
  },
  {
   "cell_type": "code",
   "execution_count": 60,
   "metadata": {},
   "outputs": [],
   "source": [
    "import math, re\n",
    "\n",
    "class LZZ7Compressor:\n",
    "    \n",
    "    def __init__(self, win, wsld):\n",
    "        self.win = win\n",
    "        self.wsld = wsld\n",
    "        self.win_b = int(math.log2(win))\n",
    "        self.wsld_b = int(math.log2(wsld))\n",
    "    \n",
    "    def __is_power_of_two(self, v):\n",
    "        return math.log2(v).is_integer()\n",
    "    \n",
    "    def __ld_to_bin(self, l, d):\n",
    "        b_win = lambda x : ''.join(reversed( [str((x >> i) & 1) for i in range(self.win_b)]))\n",
    "        b_wsld = lambda x : ''.join(reversed( [str((x >> i) & 1) for i in range(self.wsld_b)]))\n",
    "        return (l, d) # remove and uncomment below to get it in binary string\n",
    "        #return b_win(l) + b_wsld(d)\n",
    "    \n",
    "    def __match_pattern(self, slide, inp):\n",
    "        occ, seqs = [], [inp[:i] for i in range(len(inp), 0, -1)]\n",
    "        while seqs:\n",
    "            current = seqs.pop(0)\n",
    "            occ = [(x.start(0), x.end(0)) for x in re.finditer(current, slide)]\n",
    "            if occ:\n",
    "                si, ei = occ[-1]\n",
    "                return self.__ld_to_bin(len(slide[si:ei]), len(slide) - si)\n",
    "        return False\n",
    "    \n",
    "    def compress(self, m):\n",
    "        ret = []\n",
    "        \"\"\"\n",
    "        if self.win > self.wsld or len(m) < self.win + self.wsld or not self.__is_power_of_two(self.win) \\\n",
    "            or not self.__is_power_of_two(self.wsld):\n",
    "            return -1\n",
    "        \"\"\"\n",
    "        offset = 0\n",
    "        while offset + self.wsld + self.win <= len(m):\n",
    "            slide = m[offset:offset + self.wsld] \n",
    "            inp = m[offset + self.wsld:offset + self.wsld + self.win]\n",
    "            found = self.__match_pattern(slide, inp)\n",
    "            if found:\n",
    "                ret.append(found)\n",
    "            else:\n",
    "                ret.append(self.__ld_to_bin(1, 1))\n",
    "            offset += len(ret[-1])\n",
    "            print(ret)\n",
    "            \n",
    "    "
   ]
  },
  {
   "cell_type": "code",
   "execution_count": 61,
   "metadata": {},
   "outputs": [
    {
     "name": "stdout",
     "output_type": "stream",
     "text": [
      "[(3, 7)]\n",
      "[(3, 7), (4, 5)]\n",
      "[(3, 7), (4, 5), (2, 3)]\n",
      "[(3, 7), (4, 5), (2, 3), (1, 1)]\n",
      "[(3, 7), (4, 5), (2, 3), (1, 1), (4, 8)]\n",
      "[(3, 7), (4, 5), (2, 3), (1, 1), (4, 8), (2, 2)]\n",
      "[(3, 7), (4, 5), (2, 3), (1, 1), (4, 8), (2, 2), (2, 2)]\n",
      "[(3, 7), (4, 5), (2, 3), (1, 1), (4, 8), (2, 2), (2, 2), (1, 1)]\n"
     ]
    }
   ],
   "source": [
    "msg = \"11011100101001111010100010001\"\n",
    "comp = LZZ7Compressor(6, 8)\n",
    "comp.compress(msg)"
   ]
  },
  {
   "cell_type": "markdown",
   "metadata": {},
   "source": [
    "#### [Apartado 1] Comprobad que el programa comprime y descomprime correctamente una cadena de 25 bits aleatorios con Mdes = 8 y Ment = 4. Ayuda: Podéis generar bits aleatorios con Math.round(Math.random())."
   ]
  },
  {
   "cell_type": "code",
   "execution_count": null,
   "metadata": {},
   "outputs": [],
   "source": []
  },
  {
   "cell_type": "code",
   "execution_count": null,
   "metadata": {},
   "outputs": [],
   "source": []
  },
  {
   "cell_type": "code",
   "execution_count": null,
   "metadata": {},
   "outputs": [],
   "source": []
  },
  {
   "cell_type": "markdown",
   "metadata": {},
   "source": [
    "#### [Apartado 2] Utilizad el programa anterior para determinar si es posible, ajustando los valores de Mdes y Ment, conseguir comprimir datos aleatorios mediante LZ77 (es decir, que la cadena de datos originales sea más larga que la cadena comprimida). ¿Por qué? ¿Cuál es la máxima compresión que lográis? ¿Con qué valores? (Ayuda: utilizad una cadena de datos de entrada de, por lo menos, 10000 bits aleatorios. Ajustad Mdes y Ment entre 2 y 2048)."
   ]
  },
  {
   "cell_type": "code",
   "execution_count": null,
   "metadata": {},
   "outputs": [],
   "source": []
  },
  {
   "cell_type": "code",
   "execution_count": null,
   "metadata": {},
   "outputs": [],
   "source": []
  }
 ],
 "metadata": {
  "kernelspec": {
   "display_name": "Python 3",
   "language": "python",
   "name": "python3"
  },
  "language_info": {
   "codemirror_mode": {
    "name": "ipython",
    "version": 3
   },
   "file_extension": ".py",
   "mimetype": "text/x-python",
   "name": "python",
   "nbconvert_exporter": "python",
   "pygments_lexer": "ipython3",
   "version": "3.8.3"
  }
 },
 "nbformat": 4,
 "nbformat_minor": 4
}
