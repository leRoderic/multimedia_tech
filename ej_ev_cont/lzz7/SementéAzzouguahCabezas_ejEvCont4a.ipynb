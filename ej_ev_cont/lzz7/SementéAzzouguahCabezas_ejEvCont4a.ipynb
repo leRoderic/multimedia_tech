{
 "cells": [
  {
   "cell_type": "markdown",
   "metadata": {},
   "source": [
    "# Ejercicio EvCont4 (a) - Compresión LZZ7"
   ]
  },
  {
   "cell_type": "markdown",
   "metadata": {},
   "source": [
    "* Óscar Sementé Solà\n",
    "* Abdelkarim Azzouguagh Ouniri\n",
    "* Rodrigo Cabezas Quirós"
   ]
  },
  {
   "cell_type": "code",
   "execution_count": 8,
   "metadata": {},
   "outputs": [],
   "source": [
    "import math, re\n",
    "\n",
    "class LZZ7Compressor:\n",
    "    \n",
    "    def __init__(self, win, wsld):\n",
    "        self.win = win\n",
    "        self.wsld = wsld\n",
    "        self.win_b = int(math.log2(win))\n",
    "        self.wsld_b = int(math.log2(wsld))\n",
    "    \n",
    "    def __is_power_of_two(self, v):\n",
    "        return math.log2(v).is_integer()\n",
    "    \n",
    "    def __ld_to_bin(self, l, d, useLD):\n",
    "        \"\"\"\n",
    "        Transforma (L, D) a formato binario de longitud fija.\n",
    "        \"\"\"\n",
    "        b_win = lambda x : ''.join(reversed( [str((x >> i) & 1) for i in range(self.win_b)]))\n",
    "        b_wsld = lambda x : ''.join(reversed( [str((x >> i) & 1) for i in range(self.wsld_b)]))\n",
    "        if useLD:\n",
    "            return (l, d)\n",
    "        return b_win(l) + b_wsld(d)\n",
    "    \n",
    "    def __match_pattern(self, slide, inp, useLD):\n",
    "        \"\"\"\n",
    "        Busca un patrón de la ventana de entrada en la ventana deslizante. Si lo encuentra devuelve\n",
    "        (L, D) en decimal o en formato binario (según valor de 'useLD') y la longitud del patrón\n",
    "        encontrado. Si no lo encuentra devuelve False y 1 (incremento del offset).\n",
    "        \"\"\"\n",
    "        occ, seqs = [], [inp[:i] for i in range(len(inp), 0, -1)]\n",
    "        while seqs:\n",
    "            current = seqs.pop(0)\n",
    "            occ = [(x.start(0), x.end(0)) for x in re.finditer(current, slide)]\n",
    "            if occ:\n",
    "                si, ei = occ[-1]\n",
    "                return self.__ld_to_bin(len(slide[si:ei]), len(slide) - si, useLD), ei - si\n",
    "        return False, 1\n",
    "    \n",
    "    def compress(self, m, useLD=False):\n",
    "        \"\"\"\n",
    "        Compresión de una string binaria a partir de la configuración del compresor.\n",
    "        \"\"\"\n",
    "        if not self.win <= self.wsld and not len(m) >= self.win + self.wsld:\n",
    "            \"\"\"\n",
    "            Que los bits de conf. sean potencia de 2 no tiene ningún sentido. El ejercicio evaluado en\n",
    "            clase tenía por parametros 8 y 6 bits. Aplicando la norma de la potencia de 2, con 6 bits no\n",
    "            funcionaria el algoritmo. Así que hemos aplicado esta política.\n",
    "            or \\ not self.__is_power_of_two(self.win) \\ or not self.__is_power_of_two(self.wsld):\n",
    "            \"\"\"\n",
    "            return -1\n",
    "        # Se aplica método de inserción de bit, para los casos problematicos.\n",
    "        offset, m = 0, self.__add_insertion_bits(m)\n",
    "        ret = [m[:self.wsld]]\n",
    "        while offset + self.wsld + self.win <= len(m):\n",
    "            # Búsqueda de patrón de la ventana de entrada en la deslizante.\n",
    "            slide = m[offset:offset + self.wsld]\n",
    "            inp = m[offset + self.wsld:offset + self.wsld + self.win]\n",
    "            found, flen = self.__match_pattern(slide, inp, useLD)\n",
    "            if found:\n",
    "                # Si se encuentra se añade al retorno.\n",
    "                ret.append(found)\n",
    "            else:\n",
    "                # Si no se guarda el símbolo (en formato (L, D) tal y como especifica el enunciado).\n",
    "                ret.append(self.__ld_to_bin(1, 1, useLD))\n",
    "            offset -= -flen\n",
    "        # Si al acabar quedan bits fuera de las ventanas, se añaden al final de la cadena.\n",
    "        if offset < len(m):\n",
    "            ret.append(m[offset + self.wsld:])\n",
    "        if useLD:\n",
    "            return ret\n",
    "        return \"\".join(ret)\n",
    "    \n",
    "    def uncompress(self, m):\n",
    "        \"\"\"\n",
    "        Descompresión de una string binaria a partir de la configuración del compresor.\n",
    "        \"\"\"\n",
    "        ret = m[:self.wsld]\n",
    "        div = [m[i:i+self.wsld_b+self.win_b] for i in range(self.wsld, len(m), self.wsld_b + self.win_b)]\n",
    "        lf = lambda x: 2**self.win_b if x == 0 else x\n",
    "        df = lambda x: 2**self.wsld_b if x == 0 else x\n",
    "        while div:\n",
    "            c = div.pop(0)\n",
    "            if len(c) < self.wsld_b + self.win_b:\n",
    "                ret = ret + c\n",
    "            else:\n",
    "                l, d = lf(int(c[:self.win_b], 2)), df(int(c[self.win_b:], 2))\n",
    "                ret = ret + ret[len(ret) - d: len(ret) + l - d]\n",
    "        return ret#self.__remove_insertion_bits(ret)\n",
    "    \n",
    "    def __remove_insertion_bits(self, m):\n",
    "        \"\"\"\n",
    "        Desaplica método de inserción de bit para las entradas con un solo carácter.\n",
    "        \"\"\"\n",
    "        asd = [m[i:i + self.wsld] for i in range(0, len(m), self.wsld)]\n",
    "        opposite = lambda x: \"0\" if x == \"1\" else \"1\"\n",
    "        for i in range(len(asd) - 1):\n",
    "            asd = [m[i:i + self.wsld] for i in range(0, len(m), self.wsld)]\n",
    "            if asd[i][:-1] == asd[i][0] * (len(asd[i]) - 1) and asd[i][-1] == opposite(asd[i][0]) \\\n",
    "            and asd[i + 1][0] == asd[i][0]:\n",
    "                print(\"LEL\")\n",
    "                \"\"\"\n",
    "                PROBLEMA: INSERTION BITS ENTRA EN LA CONDICIÓN PERO REMOVE BITS NO\n",
    "                \"\"\"\n",
    "                asd[i] = asd[i][:-1] + opposite(asd[i+1][0])\n",
    "                #asd[i + 1] = asd[i + 1][1:]\n",
    "            m = \"\".join(asd)\n",
    "        return \"\".join(asd)\n",
    "    \n",
    "    def __add_insertion_bits(self, m):\n",
    "        \"\"\"\n",
    "        Aplica método de inserción de bit para las entradas con un solo carácter.\n",
    "        \"\"\"\n",
    "        asd = [m[i:i + self.wsld] for i in range(0, len(m), self.wsld)]\n",
    "        opposite = lambda x: \"0\" if x == \"1\" else \"1\"\n",
    "        for i in range(len(asd)):\n",
    "            if asd[i] == asd[i][0] * len(asd[i]) and len(asd[i]) == self.wsld:\n",
    "                print(\"ASD\")\n",
    "                asd[i] = asd[i][:-1] + opposite(asd[i][0]) + asd[i][0]\n",
    "        return \"\".join(asd)"
   ]
  },
  {
   "cell_type": "code",
   "execution_count": 4,
   "metadata": {},
   "outputs": [
    {
     "name": "stdout",
     "output_type": "stream",
     "text": [
      "-> Original:\t\t\t 11011100101001111010100010001\n",
      "-> Compresión:\n",
      "\tCon (L, D):\t\t ['11011100', (3, 7), (3, 5), (1, 1), (2, 2), (3, 8), (2, 2), (1, 1), (4, 4), '01']\n",
      "\tBinario:\t\t 11011100111111110101001100101100010010010010010001\n",
      "-> Descompresión:\t\t 11011100101001111010100010001\n"
     ]
    }
   ],
   "source": [
    "def test(msg, comp, i=False):\n",
    "    if i != False: print(\"Test #{}\".format(i))\n",
    "    print(\"-> Original:\\t\\t\\t\", msg)\n",
    "    print(\"-> Compresión:\\n\\tCon (L, D):\\t\\t\", comp.compress(msg, useLD=True))\n",
    "    asd = comp.compress(msg)\n",
    "    print(\"\\tBinario:\\t\\t\", asd)\n",
    "    asd2 = comp.uncompress(asd)\n",
    "    print(\"-> Descompresión:\\t\\t\", asd2)\n",
    "    # Comprobación con el mensaje original.\n",
    "    assert msg == asd2\n",
    "\n",
    "msg = \"11011100101001111010100010001\"\n",
    "comp = LZZ7Compressor(6, 8)\n",
    "test(msg, comp)"
   ]
  },
  {
   "cell_type": "markdown",
   "metadata": {},
   "source": [
    "#### [Apartado 1] Comprobad que el programa comprime y descomprime correctamente una cadena de 25 bits aleatorios con Mdes = 8 y Ment = 4. Ayuda: Podéis generar bits aleatorios con Math.round(Math.random())."
   ]
  },
  {
   "cell_type": "code",
   "execution_count": 6,
   "metadata": {},
   "outputs": [],
   "source": [
    "import random\n",
    "def rand_key(p):\n",
    "    key1 = \"\"\n",
    "    for i in range(p):\n",
    "        temp = str(random.randint(0, 1))\n",
    "        key1 += temp \n",
    "    return(key1)"
   ]
  },
  {
   "cell_type": "code",
   "execution_count": 12,
   "metadata": {},
   "outputs": [
    {
     "name": "stdout",
     "output_type": "stream",
     "text": [
      "-> Original:\t\t\t 0000111100100011011011011\n",
      "-> Compresión:\n",
      "\tCon (L, D):\t\t ['00001111', (3, 6), (2, 3), (2, 4), (2, 5), (3, 3), (4, 6), '1']\n",
      "\tBinario:\t\t 000011111111010011101001010111011001101\n",
      "-> Descompresión:\t\t 0000111100100011011011011\n",
      "Test #1\n",
      "-> Original:\t\t\t 1111101000100100111100001\n",
      "-> Compresión:\n",
      "\tCon (L, D):\t\t ['11111010', (1, 1), (4, 4), (3, 3), (1, 3), (1, 1), (2, 2), (2, 6), '001']\n",
      "\tBinario:\t\t 1111101001001001001101101011010011001010110001\n",
      "-> Descompresión:\t\t 1111101000100100111100001\n",
      "Test #2\n",
      "-> Original:\t\t\t 0000101100111111011100010\n",
      "-> Compresión:\n",
      "\tCon (L, D):\t\t ['00001011', (3, 6), (2, 5), (3, 3), (4, 7), (1, 4), (1, 1), '010']\n",
      "\tBinario:\t\t 00001011111101010111011001110110001001010\n",
      "-> Descompresión:\t\t 0000101100111111011100010\n",
      "Test #3\n",
      "-> Original:\t\t\t 1111110100110111110010100\n",
      "-> Compresión:\n",
      "\tCon (L, D):\t\t ['11111101', (1, 2), (2, 3), (3, 6), (2, 4), (3, 6), (2, 7), (2, 2), '00']\n",
      "\tBinario:\t\t 111111010101010011111101010011110101111001000\n",
      "-> Descompresión:\t\t 1111110100110111110010100\n",
      "Test #4\n",
      "-> Original:\t\t\t 0100011110010010111010000\n",
      "-> Compresión:\n",
      "\tCon (L, D):\t\t ['01000111', (3, 7), (3, 3), (2, 3), (1, 2), (1, 1), (3, 4), (1, 2), '000']\n",
      "\tBinario:\t\t 0100011111111110111001101010010011110001010000\n",
      "-> Descompresión:\t\t 0100011110010010111010000\n",
      "Test #5\n",
      "-> Original:\t\t\t 0101010101100100001111100\n",
      "-> Compresión:\n",
      "\tCon (L, D):\t\t ['01010101', (2, 2), (2, 3), (3, 8), (2, 4), (2, 5), (1, 1), (2, 2), '100']\n",
      "\tBinario:\t\t 0101010110010100111100010100101010100110010100\n",
      "-> Descompresión:\t\t 0101010101100100001111100\n",
      "Test #6\n",
      "-> Original:\t\t\t 0111000010001010111011000\n",
      "-> Compresión:\n",
      "\tCon (L, D):\t\t ['01110000', (4, 5), (2, 4), (2, 2), (1, 2), (1, 1), (4, 4), '000']\n",
      "\tBinario:\t\t 01110000001011010010010010100100100100000\n",
      "-> Descompresión:\t\t 0111000010001010111011000\n",
      "Test #7\n",
      "-> Original:\t\t\t 0000000010101010110010111\n",
      "ASD\n",
      "-> Compresión:\n",
      "\tCon (L, D):\t\t ['00000001', (2, 2), (4, 4), (4, 4), (2, 3), (4, 8), '11']\n",
      "ASD\n",
      "\tBinario:\t\t 00000001100100010000100100110000011\n",
      "-> Descompresión:\t\t 00000001010101010110010111\n"
     ]
    },
    {
     "ename": "AssertionError",
     "evalue": "",
     "output_type": "error",
     "traceback": [
      "\u001b[1;31m---------------------------------------------------------------------------\u001b[0m",
      "\u001b[1;31mAssertionError\u001b[0m                            Traceback (most recent call last)",
      "\u001b[1;32m<ipython-input-12-284b950b16d3>\u001b[0m in \u001b[0;36m<module>\u001b[1;34m\u001b[0m\n\u001b[0;32m      1\u001b[0m \u001b[0mcomp\u001b[0m \u001b[1;33m=\u001b[0m \u001b[0mLZZ7Compressor\u001b[0m\u001b[1;33m(\u001b[0m\u001b[1;36m4\u001b[0m\u001b[1;33m,\u001b[0m \u001b[1;36m8\u001b[0m\u001b[1;33m)\u001b[0m\u001b[1;33m\u001b[0m\u001b[1;33m\u001b[0m\u001b[0m\n\u001b[0;32m      2\u001b[0m \u001b[1;32mfor\u001b[0m \u001b[0mi\u001b[0m \u001b[1;32min\u001b[0m \u001b[0mrange\u001b[0m\u001b[1;33m(\u001b[0m\u001b[1;36m30\u001b[0m\u001b[1;33m)\u001b[0m\u001b[1;33m:\u001b[0m\u001b[1;33m\u001b[0m\u001b[1;33m\u001b[0m\u001b[0m\n\u001b[1;32m----> 3\u001b[1;33m     \u001b[0mtest\u001b[0m\u001b[1;33m(\u001b[0m\u001b[0mrand_key\u001b[0m\u001b[1;33m(\u001b[0m\u001b[1;36m25\u001b[0m\u001b[1;33m)\u001b[0m\u001b[1;33m,\u001b[0m \u001b[0mcomp\u001b[0m\u001b[1;33m,\u001b[0m \u001b[0mi\u001b[0m\u001b[1;33m)\u001b[0m\u001b[1;33m\u001b[0m\u001b[1;33m\u001b[0m\u001b[0m\n\u001b[0m",
      "\u001b[1;32m<ipython-input-4-b31270b0ecf2>\u001b[0m in \u001b[0;36mtest\u001b[1;34m(msg, comp, i)\u001b[0m\n\u001b[0;32m      8\u001b[0m     \u001b[0mprint\u001b[0m\u001b[1;33m(\u001b[0m\u001b[1;34m\"-> Descompresión:\\t\\t\"\u001b[0m\u001b[1;33m,\u001b[0m \u001b[0masd2\u001b[0m\u001b[1;33m)\u001b[0m\u001b[1;33m\u001b[0m\u001b[1;33m\u001b[0m\u001b[0m\n\u001b[0;32m      9\u001b[0m     \u001b[1;31m# Comprobación con el mensaje original.\u001b[0m\u001b[1;33m\u001b[0m\u001b[1;33m\u001b[0m\u001b[1;33m\u001b[0m\u001b[0m\n\u001b[1;32m---> 10\u001b[1;33m     \u001b[1;32massert\u001b[0m \u001b[0mmsg\u001b[0m \u001b[1;33m==\u001b[0m \u001b[0masd2\u001b[0m\u001b[1;33m\u001b[0m\u001b[1;33m\u001b[0m\u001b[0m\n\u001b[0m\u001b[0;32m     11\u001b[0m \u001b[1;33m\u001b[0m\u001b[0m\n\u001b[0;32m     12\u001b[0m \u001b[0mmsg\u001b[0m \u001b[1;33m=\u001b[0m \u001b[1;34m\"11011100101001111010100010001\"\u001b[0m\u001b[1;33m\u001b[0m\u001b[1;33m\u001b[0m\u001b[0m\n",
      "\u001b[1;31mAssertionError\u001b[0m: "
     ]
    }
   ],
   "source": [
    "comp = LZZ7Compressor(4, 8)\n",
    "for i in range(30):\n",
    "    test(rand_key(25), comp, i)"
   ]
  },
  {
   "cell_type": "markdown",
   "metadata": {},
   "source": [
    "#### [Apartado 2] Utilizad el programa anterior para determinar si es posible, ajustando los valores de Mdes y Ment, conseguir comprimir datos aleatorios mediante LZ77 (es decir, que la cadena de datos originales sea más larga que la cadena comprimida). ¿Por qué? ¿Cuál es la máxima compresión que lográis? ¿Con qué valores? (Ayuda: utilizad una cadena de datos de entrada de, por lo menos, 10000 bits aleatorios. Ajustad Mdes y Ment entre 2 y 2048)."
   ]
  },
  {
   "cell_type": "code",
   "execution_count": 78,
   "metadata": {},
   "outputs": [],
   "source": [
    "def test2(msg, comp, i=False):\n",
    "    asd = comp.compress(msg)\n",
    "    asd2 = comp.uncompress(asd)\n",
    "    if len(msg) > len(asd):\n",
    "        if i != False: print(\"Test #{}\".format(i))\n",
    "        print(\"-> Original:\\t\\t\\t\", msg)\n",
    "        print(\"-> Compresión:\\n\\tCon (L, D):\\t\\t\", comp.compress(msg, useLD=True))\n",
    "        print(\"\\tBinario:\\t\\t\", asd)\n",
    "        print(\"-> Descompresión:\\t\\t\", asd2)\n",
    "        print(\"-> Longitud original:\\t\\t{}\", len(msg))\n",
    "        print(\"-> Longitud comprimida:\\t\\t{}\", len(asd))\n",
    "        # Comprobación con el mensaje original.\n",
    "        assert msg == asd2"
   ]
  },
  {
   "cell_type": "code",
   "execution_count": 79,
   "metadata": {},
   "outputs": [
    {
     "ename": "TypeError",
     "evalue": "'int' object is not subscriptable",
     "output_type": "error",
     "traceback": [
      "\u001b[1;31m---------------------------------------------------------------------------\u001b[0m",
      "\u001b[1;31mTypeError\u001b[0m                                 Traceback (most recent call last)",
      "\u001b[1;32m<ipython-input-79-317f7ac9fb83>\u001b[0m in \u001b[0;36m<module>\u001b[1;34m\u001b[0m\n\u001b[0;32m      2\u001b[0m \u001b[1;32mfor\u001b[0m \u001b[0mi\u001b[0m \u001b[1;32min\u001b[0m \u001b[0mrange\u001b[0m\u001b[1;33m(\u001b[0m\u001b[0mlen\u001b[0m\u001b[1;33m(\u001b[0m\u001b[0masd\u001b[0m\u001b[1;33m)\u001b[0m\u001b[1;33m)\u001b[0m\u001b[1;33m:\u001b[0m\u001b[1;33m\u001b[0m\u001b[1;33m\u001b[0m\u001b[0m\n\u001b[0;32m      3\u001b[0m     \u001b[0mmsld\u001b[0m\u001b[1;33m,\u001b[0m \u001b[0mmwin\u001b[0m \u001b[1;33m=\u001b[0m \u001b[0masd\u001b[0m\u001b[1;33m[\u001b[0m\u001b[0mi\u001b[0m\u001b[1;33m]\u001b[0m\u001b[1;33m\u001b[0m\u001b[1;33m\u001b[0m\u001b[0m\n\u001b[1;32m----> 4\u001b[1;33m     \u001b[0mtest2\u001b[0m\u001b[1;33m(\u001b[0m\u001b[0mrand_key\u001b[0m\u001b[1;33m(\u001b[0m\u001b[1;36m1000\u001b[0m\u001b[1;33m)\u001b[0m\u001b[1;33m,\u001b[0m \u001b[0mLZZ7Compressor\u001b[0m\u001b[1;33m(\u001b[0m\u001b[0mmwin\u001b[0m\u001b[1;33m,\u001b[0m \u001b[0mmsld\u001b[0m\u001b[1;33m)\u001b[0m\u001b[1;33m,\u001b[0m \u001b[0mi\u001b[0m\u001b[1;33m)\u001b[0m\u001b[1;33m\u001b[0m\u001b[1;33m\u001b[0m\u001b[0m\n\u001b[0m",
      "\u001b[1;32m<ipython-input-78-e5600380df1c>\u001b[0m in \u001b[0;36mtest2\u001b[1;34m(msg, comp, i)\u001b[0m\n\u001b[0;32m      1\u001b[0m \u001b[1;32mdef\u001b[0m \u001b[0mtest2\u001b[0m\u001b[1;33m(\u001b[0m\u001b[0mmsg\u001b[0m\u001b[1;33m,\u001b[0m \u001b[0mcomp\u001b[0m\u001b[1;33m,\u001b[0m \u001b[0mi\u001b[0m\u001b[1;33m=\u001b[0m\u001b[1;32mFalse\u001b[0m\u001b[1;33m)\u001b[0m\u001b[1;33m:\u001b[0m\u001b[1;33m\u001b[0m\u001b[1;33m\u001b[0m\u001b[0m\n\u001b[0;32m      2\u001b[0m     \u001b[0masd\u001b[0m \u001b[1;33m=\u001b[0m \u001b[0mcomp\u001b[0m\u001b[1;33m.\u001b[0m\u001b[0mcompress\u001b[0m\u001b[1;33m(\u001b[0m\u001b[0mmsg\u001b[0m\u001b[1;33m)\u001b[0m\u001b[1;33m\u001b[0m\u001b[1;33m\u001b[0m\u001b[0m\n\u001b[1;32m----> 3\u001b[1;33m     \u001b[0masd2\u001b[0m \u001b[1;33m=\u001b[0m \u001b[0mcomp\u001b[0m\u001b[1;33m.\u001b[0m\u001b[0muncompress\u001b[0m\u001b[1;33m(\u001b[0m\u001b[0masd\u001b[0m\u001b[1;33m)\u001b[0m\u001b[1;33m\u001b[0m\u001b[1;33m\u001b[0m\u001b[0m\n\u001b[0m\u001b[0;32m      4\u001b[0m     \u001b[1;32mif\u001b[0m \u001b[0mlen\u001b[0m\u001b[1;33m(\u001b[0m\u001b[0mmsg\u001b[0m\u001b[1;33m)\u001b[0m \u001b[1;33m>\u001b[0m \u001b[0mlen\u001b[0m\u001b[1;33m(\u001b[0m\u001b[0masd\u001b[0m\u001b[1;33m)\u001b[0m\u001b[1;33m:\u001b[0m\u001b[1;33m\u001b[0m\u001b[1;33m\u001b[0m\u001b[0m\n\u001b[0;32m      5\u001b[0m         \u001b[1;32mif\u001b[0m \u001b[0mi\u001b[0m \u001b[1;33m!=\u001b[0m \u001b[1;32mFalse\u001b[0m\u001b[1;33m:\u001b[0m \u001b[0mprint\u001b[0m\u001b[1;33m(\u001b[0m\u001b[1;34m\"Test #{}\"\u001b[0m\u001b[1;33m.\u001b[0m\u001b[0mformat\u001b[0m\u001b[1;33m(\u001b[0m\u001b[0mi\u001b[0m\u001b[1;33m)\u001b[0m\u001b[1;33m)\u001b[0m\u001b[1;33m\u001b[0m\u001b[1;33m\u001b[0m\u001b[0m\n",
      "\u001b[1;32m<ipython-input-70-33b0b2d6f23d>\u001b[0m in \u001b[0;36muncompress\u001b[1;34m(self, m)\u001b[0m\n\u001b[0;32m     75\u001b[0m         \u001b[0mDescompresión\u001b[0m \u001b[0mde\u001b[0m \u001b[0muna\u001b[0m \u001b[0mstring\u001b[0m \u001b[0mbinaria\u001b[0m \u001b[0ma\u001b[0m \u001b[0mpartir\u001b[0m \u001b[0mde\u001b[0m \u001b[0mla\u001b[0m \u001b[0mconfiguración\u001b[0m \u001b[1;32mdel\u001b[0m \u001b[0mcompresor\u001b[0m\u001b[1;33m.\u001b[0m\u001b[1;33m\u001b[0m\u001b[1;33m\u001b[0m\u001b[0m\n\u001b[0;32m     76\u001b[0m         \"\"\"\n\u001b[1;32m---> 77\u001b[1;33m         \u001b[0mret\u001b[0m \u001b[1;33m=\u001b[0m \u001b[0mm\u001b[0m\u001b[1;33m[\u001b[0m\u001b[1;33m:\u001b[0m\u001b[0mself\u001b[0m\u001b[1;33m.\u001b[0m\u001b[0mwsld\u001b[0m\u001b[1;33m]\u001b[0m\u001b[1;33m\u001b[0m\u001b[1;33m\u001b[0m\u001b[0m\n\u001b[0m\u001b[0;32m     78\u001b[0m         \u001b[0mdiv\u001b[0m \u001b[1;33m=\u001b[0m \u001b[1;33m[\u001b[0m\u001b[0mm\u001b[0m\u001b[1;33m[\u001b[0m\u001b[0mi\u001b[0m\u001b[1;33m:\u001b[0m\u001b[0mi\u001b[0m\u001b[1;33m+\u001b[0m\u001b[0mself\u001b[0m\u001b[1;33m.\u001b[0m\u001b[0mwsld_b\u001b[0m\u001b[1;33m+\u001b[0m\u001b[0mself\u001b[0m\u001b[1;33m.\u001b[0m\u001b[0mwin_b\u001b[0m\u001b[1;33m]\u001b[0m \u001b[1;32mfor\u001b[0m \u001b[0mi\u001b[0m \u001b[1;32min\u001b[0m \u001b[0mrange\u001b[0m\u001b[1;33m(\u001b[0m\u001b[0mself\u001b[0m\u001b[1;33m.\u001b[0m\u001b[0mwsld\u001b[0m\u001b[1;33m,\u001b[0m \u001b[0mlen\u001b[0m\u001b[1;33m(\u001b[0m\u001b[0mm\u001b[0m\u001b[1;33m)\u001b[0m\u001b[1;33m,\u001b[0m \u001b[0mself\u001b[0m\u001b[1;33m.\u001b[0m\u001b[0mwsld_b\u001b[0m \u001b[1;33m+\u001b[0m \u001b[0mself\u001b[0m\u001b[1;33m.\u001b[0m\u001b[0mwin_b\u001b[0m\u001b[1;33m)\u001b[0m\u001b[1;33m]\u001b[0m\u001b[1;33m\u001b[0m\u001b[1;33m\u001b[0m\u001b[0m\n\u001b[0;32m     79\u001b[0m         \u001b[0mlf\u001b[0m \u001b[1;33m=\u001b[0m \u001b[1;32mlambda\u001b[0m \u001b[0mx\u001b[0m\u001b[1;33m:\u001b[0m \u001b[1;36m2\u001b[0m\u001b[1;33m**\u001b[0m\u001b[0mself\u001b[0m\u001b[1;33m.\u001b[0m\u001b[0mwin_b\u001b[0m \u001b[1;32mif\u001b[0m \u001b[0mx\u001b[0m \u001b[1;33m==\u001b[0m \u001b[1;36m0\u001b[0m \u001b[1;32melse\u001b[0m \u001b[0mx\u001b[0m\u001b[1;33m\u001b[0m\u001b[1;33m\u001b[0m\u001b[0m\n",
      "\u001b[1;31mTypeError\u001b[0m: 'int' object is not subscriptable"
     ]
    }
   ],
   "source": [
    "asd = [(2, 2048)]\n",
    "for i in range(len(asd)):\n",
    "    msld, mwin = asd[i]\n",
    "    test2(rand_key(1000), LZZ7Compressor(mwin, msld), i)"
   ]
  },
  {
   "cell_type": "code",
   "execution_count": null,
   "metadata": {},
   "outputs": [],
   "source": []
  }
 ],
 "metadata": {
  "kernelspec": {
   "display_name": "Python 3",
   "language": "python",
   "name": "python3"
  },
  "language_info": {
   "codemirror_mode": {
    "name": "ipython",
    "version": 3
   },
   "file_extension": ".py",
   "mimetype": "text/x-python",
   "name": "python",
   "nbconvert_exporter": "python",
   "pygments_lexer": "ipython3",
   "version": "3.8.3"
  }
 },
 "nbformat": 4,
 "nbformat_minor": 4
}
