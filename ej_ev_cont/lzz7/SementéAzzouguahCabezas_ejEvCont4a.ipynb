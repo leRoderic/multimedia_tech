{
 "cells": [
  {
   "cell_type": "markdown",
   "metadata": {},
   "source": [
    "# Ejercicio EvCont4 (a) - Compresión LZZ7"
   ]
  },
  {
   "cell_type": "markdown",
   "metadata": {},
   "source": [
    "* Óscar Sementé Solà\n",
    "* Abdelkarim Azzouguagh Ouniri\n",
    "* Rodrigo Cabezas Quirós"
   ]
  },
  {
   "cell_type": "code",
   "execution_count": 47,
   "metadata": {},
   "outputs": [],
   "source": [
    "import math, re\n",
    "\n",
    "class LZZ7Compressor:\n",
    "    \n",
    "    def __init__(self, win, wsld):\n",
    "        self.win = win\n",
    "        self.wsld = wsld\n",
    "        self.win_b = int(math.log2(win))\n",
    "        self.wsld_b = int(math.log2(wsld))\n",
    "    \n",
    "    def __is_power_of_two(self, v):\n",
    "        return math.log2(v).is_integer()\n",
    "    \n",
    "    def __ld_to_bin(self, l, d, useLD):\n",
    "        \"\"\"\n",
    "        Transforma (L, D) a formato binario de longitud fija.\n",
    "        \"\"\"\n",
    "        b_win = lambda x : ''.join(reversed( [str((x >> i) & 1) for i in range(self.win_b)]))\n",
    "        b_wsld = lambda x : ''.join(reversed( [str((x >> i) & 1) for i in range(self.wsld_b)]))\n",
    "        if useLD:\n",
    "            return (l, d)\n",
    "        return b_win(l) + b_wsld(d)\n",
    "    \n",
    "    def __match_pattern(self, slide, inp, useLD):\n",
    "        \"\"\"\n",
    "        Busca un patrón de la ventana de entrada en la ventana deslizante. Si lo encuentra devuelve\n",
    "        (L, D) en decimal o en formato binario (según valor de 'useLD') y la longitud del patrón\n",
    "        encontrado. Si no lo encuentra devuelve False y 1 (incremento del offset).\n",
    "        \"\"\"\n",
    "        occ, seqs = [], [inp[:i] for i in range(len(inp), 0, -1)]\n",
    "        while seqs:\n",
    "            current = seqs.pop(0)\n",
    "            occ = [(x.start(0), x.end(0)) for x in re.finditer(current, slide)]\n",
    "            if occ:\n",
    "                si, ei = occ[-1]\n",
    "                return self.__ld_to_bin(len(slide[si:ei]), len(slide) - si, useLD), ei - si\n",
    "        return False, 1\n",
    "    \n",
    "    def compress(self, m, useLD=False):\n",
    "        \"\"\"\n",
    "        Compresión de una string binaria a partir de la configuración del compresor.\n",
    "        \"\"\"\n",
    "        if not self.win <= self.wsld and not len(m) >= self.win + self.wsld:\n",
    "            \"\"\"\n",
    "            Que los bits de conf. sean potencia de 2 no tiene ningún sentido. El ejercicio evaluado en\n",
    "            clase tenía por parametros 8 y 6 bits. Aplicando la norma de la potencia de 2, con 6 bits no\n",
    "            funcionaria el algoritmo. Así que hemos aplicado esta política.\n",
    "            or \\ not self.__is_power_of_two(self.win) \\ or not self.__is_power_of_two(self.wsld):\n",
    "            \"\"\"\n",
    "            return -1\n",
    "        # Se aplica método de inserción de bit, para los casos problematicos.\n",
    "        offset, m = 0, self.__add_insertion_bits(m)\n",
    "        ret = [m[:self.wsld]]\n",
    "        while offset + self.wsld + self.win <= len(m):\n",
    "            # Búsqueda de patrón de la ventana de entrada en la deslizante.\n",
    "            slide = m[offset:offset + self.wsld]\n",
    "            inp = m[offset + self.wsld:offset + self.wsld + self.win]\n",
    "            found, flen = self.__match_pattern(slide, inp, useLD)\n",
    "            if found:\n",
    "                # Si se encuentra se añade al retorno.\n",
    "                ret.append(found)\n",
    "            else:\n",
    "                # Si no se guarda el símbolo (en formato (L, D) tal y como especifica el enunciado).\n",
    "                ret.append(self.__ld_to_bin(1, 1, useLD))\n",
    "            offset -= -flen\n",
    "        # Si al acabar quedan bits fuera de las ventanas, se añaden al final de la cadena.\n",
    "        if offset < len(m):\n",
    "            ret.append(m[offset + self.wsld:])\n",
    "        if useLD:\n",
    "            return ret\n",
    "        return \"\".join(ret)\n",
    "    \n",
    "    def uncompress(self, m):\n",
    "        \"\"\"\n",
    "        Descompresión de una string binaria a partir de la configuración del compresor.\n",
    "        \"\"\"\n",
    "        ret = m[:self.wsld]\n",
    "        div = [m[i:i+self.wsld_b+self.win_b] for i in range(self.wsld, len(m), self.wsld_b + self.win_b)]\n",
    "        lf = lambda x: 2**self.win_b if x == 0 else x\n",
    "        df = lambda x: 2**self.wsld_b if x == 0 else x\n",
    "        while div:\n",
    "            c = div.pop(0)\n",
    "            if len(c) < self.wsld_b + self.win_b:\n",
    "                ret = ret + c\n",
    "            else:\n",
    "                l, d = lf(int(c[:self.win_b], 2)), df(int(c[self.win_b:], 2))\n",
    "                ret = ret + ret[len(ret) - d: len(ret) + l - d]\n",
    "        return self.__remove_insertion_bits(ret)\n",
    "    \n",
    "    def __add_insertion_bits(self, m):\n",
    "        \"\"\"\n",
    "        Aplica método de inserción de bit para las entradas con un solo carácter.\n",
    "        \"\"\"\n",
    "        asd = [m[i:i + self.wsld - 1] for i in range(0, len(m), self.wsld - 1)]\n",
    "        opposite = lambda x: \"0\" if x == \"1\" else \"1\"\n",
    "        for i in range(len(asd)):\n",
    "            if asd[i] == asd[i][0] * len(asd[i]) and len(asd[i]) == self.wsld - 1:\n",
    "                asd[i] = asd[i] + opposite(asd[i][0])\n",
    "        return \"\".join(asd)\n",
    "    \n",
    "    def __remove_insertion_bits(self, m):\n",
    "        \"\"\"\n",
    "        Desaplica método de inserción de bit para las entradas con un solo carácter.\n",
    "        \"\"\"\n",
    "        opposite = lambda x: \"0\" if x == \"1\" else \"1\"\n",
    "        for i in range(0, len(m), self.wsld):\n",
    "            p = m[i:i + self.wsld]\n",
    "            if p[:-1] == p[0] * len(p[:-1]) and p[-1] == opposite(p[0]):\n",
    "                m = m[:i + self.wsld-1] + m[i+self.wsld:]\n",
    "        return m"
   ]
  },
  {
   "cell_type": "code",
   "execution_count": 48,
   "metadata": {},
   "outputs": [
    {
     "name": "stdout",
     "output_type": "stream",
     "text": [
      "-> Original:\t\t\t 11011100101001111010100010001\n",
      "-> Compresión:\n",
      "\tCon (L, D):\t\t ['11011100', (3, 7), (3, 5), (1, 1), (2, 2), (3, 8), (2, 2), (1, 1), (4, 4), '01']\n",
      "\tBinario:\t\t 11011100111111110101001100101100010010010010010001\n",
      "-> Descompresión:\t\t 11011100101001111010100010001\n"
     ]
    }
   ],
   "source": [
    "def test(msg, comp, i=False):\n",
    "    if i != False: print(\"Test #{}\".format(i))\n",
    "    print(\"-> Original:\\t\\t\\t\", msg)\n",
    "    print(\"-> Compresión:\\n\\tCon (L, D):\\t\\t\", comp.compress(msg, useLD=True))\n",
    "    asd = comp.compress(msg)\n",
    "    print(\"\\tBinario:\\t\\t\", asd)\n",
    "    asd2 = comp.uncompress(asd)\n",
    "    print(\"-> Descompresión:\\t\\t\", asd2)\n",
    "    # Comprobación con el mensaje original.\n",
    "    assert msg == asd2\n",
    "\n",
    "msg = \"11011100101001111010100010001\"\n",
    "comp = LZZ7Compressor(6, 8)\n",
    "test(msg, comp)"
   ]
  },
  {
   "cell_type": "markdown",
   "metadata": {},
   "source": [
    "#### [Apartado 1] Comprobad que el programa comprime y descomprime correctamente una cadena de 25 bits aleatorios con Mdes = 8 y Ment = 4. Ayuda: Podéis generar bits aleatorios con Math.round(Math.random())."
   ]
  },
  {
   "cell_type": "code",
   "execution_count": 23,
   "metadata": {},
   "outputs": [],
   "source": [
    "import random\n",
    "def rand_key(p):\n",
    "    key1 = \"\"\n",
    "    for i in range(p):\n",
    "        temp = str(random.randint(0, 1))\n",
    "        key1 += temp \n",
    "    return(key1)"
   ]
  },
  {
   "cell_type": "code",
   "execution_count": 53,
   "metadata": {},
   "outputs": [
    {
     "name": "stdout",
     "output_type": "stream",
     "text": [
      "Test #4\n",
      "-> Original:\t\t\t 0110010001111100110000111\n",
      "-> Compresión:\n",
      "\tCon (L, D):\t\t ['01100100', (3, 8), (2, 2), (3, 8), (4, 4), (4, 6), '1']\n",
      "\tBinario:\t\t 0110010011000100101100000100001101\n",
      "-> Descompresión:\t\t 0110010001111100110000111\n"
     ]
    }
   ],
   "source": [
    "comp = LZZ7Compressor(4, 8)\n",
    "test(rand_key(25), comp, i)"
   ]
  },
  {
   "cell_type": "markdown",
   "metadata": {},
   "source": [
    "#### [Apartado 2] Utilizad el programa anterior para determinar si es posible, ajustando los valores de Mdes y Ment, conseguir comprimir datos aleatorios mediante LZ77 (es decir, que la cadena de datos originales sea más larga que la cadena comprimida). ¿Por qué? ¿Cuál es la máxima compresión que lográis? ¿Con qué valores? (Ayuda: utilizad una cadena de datos de entrada de, por lo menos, 10000 bits aleatorios. Ajustad Mdes y Ment entre 2 y 2048)."
   ]
  },
  {
   "cell_type": "code",
   "execution_count": 54,
   "metadata": {},
   "outputs": [],
   "source": [
    "def test2(msg, comp, i=False):\n",
    "    asd = comp.compress(msg)\n",
    "    asd2 = comp.uncompress(asd)\n",
    "    if len(msg) > len(asd):\n",
    "        if i != False: print(\"Test #{}\".format(i))\n",
    "        print(\"-> Original:\\t\\t\\t\", msg)\n",
    "        print(\"-> Compresión:\\n\\tCon (L, D):\\t\\t\", comp.compress(msg, useLD=True))\n",
    "        print(\"\\tBinario:\\t\\t\", asd)\n",
    "        print(\"-> Descompresión:\\t\\t\", asd2)\n",
    "        print(\"-> Longitud original:\\t\\t{}\", len(msg))\n",
    "        print(\"-> Longitud comprimida:\\t\\t{}\", len(asd))\n",
    "        # Comprobación con el mensaje original.\n",
    "        assert msg == asd2"
   ]
  },
  {
   "cell_type": "code",
   "execution_count": null,
   "metadata": {},
   "outputs": [],
   "source": [
    "asd = [(2, 2048)]\n",
    "for i in range(len(asd)):\n",
    "    msld, mwin = asd[i]\n",
    "    test2(rand_key(1000), LZZ7Compressor(mwin, msld), i)"
   ]
  },
  {
   "cell_type": "code",
   "execution_count": null,
   "metadata": {},
   "outputs": [],
   "source": []
  }
 ],
 "metadata": {
  "kernelspec": {
   "display_name": "Python 3",
   "language": "python",
   "name": "python3"
  },
  "language_info": {
   "codemirror_mode": {
    "name": "ipython",
    "version": 3
   },
   "file_extension": ".py",
   "mimetype": "text/x-python",
   "name": "python",
   "nbconvert_exporter": "python",
   "pygments_lexer": "ipython3",
   "version": "3.8.3"
  }
 },
 "nbformat": 4,
 "nbformat_minor": 4
}
