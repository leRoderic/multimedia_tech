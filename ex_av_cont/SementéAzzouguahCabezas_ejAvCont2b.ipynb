{
 "cells": [
  {
   "cell_type": "markdown",
   "metadata": {},
   "source": [
    "# Ejercicio AvCont-2(b) - Codificación Huffman"
   ]
  },
  {
   "cell_type": "markdown",
   "metadata": {},
   "source": [
    "#### a) Implementación del codificador de Huffman."
   ]
  },
  {
   "cell_type": "code",
   "execution_count": 76,
   "metadata": {},
   "outputs": [
    {
     "name": "stdout",
     "output_type": "stream",
     "text": [
      "[('D', 0.3), ('K', 0.2), ('Q', 0.2), ('J', 0.15), ('10', 0.1), ('9', 0.05)]\n",
      "[('D', 0.3), ('K', 0.2), ('Q', 0.2), ('J', 0.15), ('109', 0.15)]\n",
      "[('D', 0.3), ('J109', 0.3), ('K', 0.2), ('Q', 0.2)]\n",
      "[('KQ', 0.4), ('D', 0.3), ('J109', 0.3)]\n",
      "[('DJ109', 0.6), ('KQ', 0.4)]\n"
     ]
    }
   ],
   "source": [
    "def huffman_coder(e):\n",
    "    simbols = list(e.keys())\n",
    "    probs, iters = [(k, v/100) for k, v in sorted(e.items(), key=lambda x: x[1], reverse=True)], []\n",
    "    if len(e) > 1:\n",
    "        # Construye los valores del árbol, en caso de que haya más de un símbolo de entrada\n",
    "        while True and len(e) > 1:\n",
    "            # En cada iteración, se ordenan los símbolos en función de su probabilidad (orden descendente)\n",
    "            probs = sorted(probs, key=lambda x: x[1], reverse=True)\n",
    "            # Y por cada iteración se guarda el valor de la tabla\n",
    "            iters.append(probs.copy())\n",
    "            \n",
    "            # Cuando quedan dos símbolos no hace falta seguir el proceso (es obvio)\n",
    "            if len(probs) == 2:\n",
    "                break\n",
    "            \n",
    "            # Sumar probabilidades, juntar símbolos y añadirlos a la lista\n",
    "            apos, lpos = probs.pop(-2), probs.pop(-1)\n",
    "            nprob, nsim = apos[1] + lpos[1], apos[0] + lpos[0]\n",
    "            probs.append((nsim, round(nprob, 3)))\n",
    "    else:                                                                                                          \n",
    "        # En caso que solo haya un símbolo, ya está todo calculado\n",
    "        iters = [probs]\n",
    "    \n",
    "    ret = {}\n",
    "    for i in simbols:\n",
    "        while True:\n",
    "            \n",
    "\n",
    "\n",
    "data = {\"D\": 30, \"K\": 20, \"Q\": 20, \"J\": 15, \"10\": 10, \"9\": 5}\n",
    "huffman_coder(data)"
   ]
  },
  {
   "cell_type": "code",
   "execution_count": 73,
   "metadata": {},
   "outputs": [
    {
     "name": "stdout",
     "output_type": "stream",
     "text": [
      "[('D', 0.5), ('F', 0.5)]\n"
     ]
    }
   ],
   "source": [
    "huffman_coder({\"D\": 50, \"F\": 50})"
   ]
  },
  {
   "cell_type": "code",
   "execution_count": 77,
   "metadata": {},
   "outputs": [
    {
     "name": "stdout",
     "output_type": "stream",
     "text": [
      "{'D': '01'}\n"
     ]
    }
   ],
   "source": [
    "a = {}\n",
    "a[\"D\"] = \"01\"\n",
    "print(a)"
   ]
  },
  {
   "cell_type": "code",
   "execution_count": null,
   "metadata": {},
   "outputs": [],
   "source": []
  }
 ],
 "metadata": {
  "kernelspec": {
   "display_name": "Python 3",
   "language": "python",
   "name": "python3"
  },
  "language_info": {
   "codemirror_mode": {
    "name": "ipython",
    "version": 3
   },
   "file_extension": ".py",
   "mimetype": "text/x-python",
   "name": "python",
   "nbconvert_exporter": "python",
   "pygments_lexer": "ipython3",
   "version": "3.8.3"
  }
 },
 "nbformat": 4,
 "nbformat_minor": 4
}
