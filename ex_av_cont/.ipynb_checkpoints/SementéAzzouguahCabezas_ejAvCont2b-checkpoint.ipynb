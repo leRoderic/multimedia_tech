{
 "cells": [
  {
   "cell_type": "markdown",
   "metadata": {},
   "source": [
    "# Ejercicio AvCont2 (b) - Codificación de Huffman"
   ]
  },
  {
   "cell_type": "markdown",
   "metadata": {},
   "source": [
    "* Óscar Sementé Solà\n",
    "* Abdelkarim Azzouguagh Ouniri\n",
    "* Rodrigo Cabezas Quirós"
   ]
  },
  {
   "cell_type": "markdown",
   "metadata": {},
   "source": [
    "### [Apartado extra] Algoritmo generación tablas de probabilidades de símbolos"
   ]
  },
  {
   "cell_type": "code",
   "execution_count": 1,
   "metadata": {},
   "outputs": [
    {
     "data": {
      "text/plain": [
       "[[('D', 0.3), ('K', 0.2), ('Q', 0.2), ('J', 0.15), ('10', 0.1), ('9', 0.05)],\n",
       " [('D', 0.3), ('K', 0.2), ('Q', 0.2), ('J', 0.15), ('109', 0.15)],\n",
       " [('D', 0.3), ('J109', 0.3), ('K', 0.2), ('Q', 0.2)],\n",
       " [('KQ', 0.4), ('D', 0.3), ('J109', 0.3)],\n",
       " [('DJ109', 0.6), ('KQ', 0.4)],\n",
       " [('DJ109KQ', 1.0)]]"
      ]
     },
     "execution_count": 1,
     "metadata": {},
     "output_type": "execute_result"
    }
   ],
   "source": [
    "def huffman_tables(e):\n",
    "    \"\"\"\n",
    "    Generación de las tablas de probabilidades de símbolos con Huffman\n",
    "    \"\"\"\n",
    "    simbols = list(e.keys())\n",
    "    probs, iters = [(k, v/100) for k, v in sorted(e.items(), key=lambda x: x[1], reverse=True)], []\n",
    "    # Construye los valores del árbol, en caso de que haya más de un símbolo de entrada\n",
    "    while True:\n",
    "        # En cada iteración, se ordenan los símbolos en función de su probabilidad (orden descendente)\n",
    "        probs = sorted(probs, key=lambda x: x[1], reverse=True)\n",
    "        # Y por cada iteración se guarda el valor de la tabla\n",
    "        iters.append(probs.copy())\n",
    "        \n",
    "        # Condición de salida, todos los símbolos juntos y probabilidad final (1 -> 100%) \n",
    "        if len(probs) == 1:\n",
    "            break\n",
    "            \n",
    "        # Sumar probabilidades, juntar símbolos y añadirlos a la lista\n",
    "        apos, lpos = probs.pop(-2), probs.pop(-1)\n",
    "        nprob, nsim = apos[1] + lpos[1], apos[0] + lpos[0]\n",
    "        probs.append((nsim, round(nprob, 3)))\n",
    "        \n",
    "    return iters\n",
    "            \n",
    "data = {\"D\": 30, \"K\": 20, \"Q\": 20, \"J\": 15, \"10\": 10, \"9\": 5}\n",
    "huffman_tables(data)"
   ]
  },
  {
   "cell_type": "markdown",
   "metadata": {},
   "source": [
    "### a) Implementación del codificador de Huffman."
   ]
  },
  {
   "cell_type": "code",
   "execution_count": 9,
   "metadata": {},
   "outputs": [],
   "source": [
    "import math\n",
    "\n",
    "class HuffmanCoderA:\n",
    "    \n",
    "    def __init__(self, p):\n",
    "        self.nodes = []\n",
    "        # Conversión de las probabilidades a espacio (0,1).\n",
    "        self.probs = [(k, v/100) for k, v in sorted(p.items(), key=lambda x: x[1], reverse=True)]\n",
    "        self.simbols = [s for s, _ in self.probs]\n",
    "        self.codes = {}\n",
    "        self.__generate_codes()\n",
    "    \n",
    "    def __add_node(self, sim, prob, left_node=None, right_node=None, edge_value=\"\"):\n",
    "        \"\"\"\n",
    "        Uso interno de la clase, añade un nodo al árbol.\n",
    "        \"\"\"\n",
    "        self.nodes.append(self.HuffmanNode(sim, prob, left_node, right_node, edge_value))\n",
    "    \n",
    "    def __get_least_probable_nodes(self):\n",
    "        \"\"\"\n",
    "        Uso interno de la clase, extrae los dos nodos con menor probabilidad.\n",
    "        \"\"\"\n",
    "        return self.nodes.pop(-2), self.nodes.pop(-1)\n",
    "    \n",
    "    def __generate_codes(self):\n",
    "        \"\"\"\n",
    "        Uso interno de la clase, generación de los códigos de Huffman para los símbolos.\n",
    "        \"\"\"\n",
    "        for s, p in self.probs:\n",
    "            self.__add_node(s, p)\n",
    "        \n",
    "        while len(self.nodes) > 1:\n",
    "            # En cada iteración se ordenan los nodos en función de su probabilidad, orden descendente.\n",
    "            self.nodes = sorted(self.nodes, key=lambda x: x.prob, reverse=True)\n",
    "            # Recupera los nodos con menor probabilidad y computa símbolo y probabilidad del nuevo nodo.\n",
    "            apos, lpos = self.__get_least_probable_nodes()\n",
    "            nprob, nsim = apos.prob + lpos.prob, apos.simbol + lpos.simbol\n",
    "            # Como los nodos están ordenados en función de su probabilidad (sentido descendiente), se asigna '1' como\n",
    "            # valor de arista al nodo que primero se extrae y '0' a su siguiente (y último), que tiene la menor probabilidad.\n",
    "            apos.edge_value, lpos.edge_value = \"1\", \"0\"\n",
    "            # Se añade el nuevo nodo al árbol y se sigue iterando.\n",
    "            self.__add_node(nsim, nprob, apos, lpos)\n",
    "        \n",
    "        self.__compute_codes_recursive(self.nodes[0], \"\")\n",
    "        \n",
    "    def __compute_codes_recursive(self, node, acc):\n",
    "        \"\"\"\n",
    "        Uso interno de la clase, asignación de códigos a cada nodo hoja del árbol.\n",
    "        \"\"\"\n",
    "        # Se propaga el código en profundidad, al empezar con valor \"\" pero se va añadiendo el valor de la arista de cada\n",
    "        # nodo intermedio (nodo no hoja).\n",
    "        acc_val = acc + node.edge_value\n",
    "        \n",
    "        # Si tiene nodo por la izquierda, se sigue recursivamente.\n",
    "        if node.left:\n",
    "            self.__compute_codes_recursive(node.left, acc_val)\n",
    "        \n",
    "        # Mismo proceso para el nodo derecho.\n",
    "        if node.right:\n",
    "            self.__compute_codes_recursive(node.right, acc_val)\n",
    "        \n",
    "        # Si no tiene nodo izquierdo ni derecho, se trata de un nodo hoja y se le asigna el código que se ha propagado\n",
    "        # a lo largo de la recursión.\n",
    "        if not node.left and not node.right:\n",
    "            node.code = acc_val\n",
    "            self.codes[node.simbol] = node.code\n",
    "    \n",
    "    def get_codes(self):\n",
    "        \"\"\"\n",
    "        Devuelve un diccionario con los códigos para los símbolos entrados.\n",
    "        \"\"\"\n",
    "        return {s: c for s, c in sorted(self.codes.items())}\n",
    "    \n",
    "    def get_compression_factor(self):\n",
    "        \"\"\"\n",
    "        Calcula el factor de compresión.\n",
    "        \"\"\"\n",
    "        return round(math.log(len(self.simbols), 2)/self.get_mean_bit_number(), 3)\n",
    "    \n",
    "    def get_mean_bit_number(self):\n",
    "        \"\"\"\n",
    "        Calcula el promedio de bits usados.\n",
    "        \"\"\"\n",
    "        return round(sum([len(self.codes[s])*p for s, p in self.probs]), 3)\n",
    "    \n",
    "    def get_entropy(self):\n",
    "        \"\"\"\n",
    "        Calcula la entropía de la codificación.\n",
    "        \"\"\"\n",
    "        return round(sum([-p*math.log(p, 2) for _, p in self.probs]), 3)\n",
    "    \n",
    "    def get_stats(self):\n",
    "        return {\"n_bits\": self.get_mean_bit_number(), \"entropy\": self.get_entropy(),\n",
    "               \"compression_factor\": self.get_compression_factor()}\n",
    "            \n",
    "    class HuffmanNode:\n",
    "        \"\"\"\n",
    "        Clase de ayuda para la generación del árbol de Huffman.\n",
    "        \"\"\"\n",
    "        \n",
    "        def __init__(self, sim, prob, left_node, right_node, edge_value):\n",
    "            self.simbol = sim\n",
    "            self.prob = prob\n",
    "            # Para los nodos hoja, left y right serán None.\n",
    "            self.left = left_node\n",
    "            self.right = right_node\n",
    "            # El nodo ráiz no tendrá asignado ningún valor en la arista.\n",
    "            self.edge_value = str(edge_value)\n",
    "            # Los nodos intermedios no tendrán asignado ningún código.\n",
    "            self.code = \"\""
   ]
  },
  {
   "cell_type": "code",
   "execution_count": 10,
   "metadata": {},
   "outputs": [
    {
     "name": "stdout",
     "output_type": "stream",
     "text": [
      "{'A': '10', 'B': '01', 'C': '111', 'D': '110', 'E': '0001', 'F': '0000', 'G': '0011', 'H': '0010'}\n",
      "{'n_bits': 2.72, 'entropy': 2.715, 'compression_factor': 1.103}\n"
     ]
    }
   ],
   "source": [
    "data = {\"A\": 25, \"B\": 25, \"C\": 14, \"D\": 14, \"E\": 5.5, \"F\": 5.5, \"G\": 5.5, \"H\": 5.5}\n",
    "hcoder_a = HuffmanCoderA(data)\n",
    "print(hcoder_a.get_codes())\n",
    "print(hcoder_a.get_stats())"
   ]
  },
  {
   "cell_type": "markdown",
   "metadata": {},
   "source": [
    "### b) Modificación del apartado a) para que a partir de una tabla de símbolos originales, sea capaz de traducir al código Huffman correspondiente un mensaje cualquiera que contenga únicamente ese conjunto de símbolos originales."
   ]
  },
  {
   "cell_type": "code",
   "execution_count": 11,
   "metadata": {},
   "outputs": [],
   "source": [
    "import math\n",
    "# Comentarios del apartado anterior suprimidos, solo están los nuevos del apartado b).\n",
    "class HuffmanCoderB:\n",
    "    \n",
    "    def __init__(self, p):\n",
    "        self.nodes = []\n",
    "        self.probs = [(k, v/100) for k, v in sorted(p.items(), key=lambda x: x[1], reverse=True)]\n",
    "        self.simbols = [s for s, _ in self.probs]\n",
    "        self.codes = {}\n",
    "        self.__generate_codes()\n",
    "    \n",
    "    def __add_node(self, sim, prob, left_node=None, right_node=None, edge_value=\"\"):\n",
    "        self.nodes.append(self.HuffmanNode(sim, prob, left_node, right_node, edge_value))\n",
    "    \n",
    "    def __get_least_probable_nodes(self):\n",
    "        return self.nodes.pop(-2), self.nodes.pop(-1)\n",
    "    \n",
    "    def __generate_codes(self):\n",
    "        for s, p in self.probs:\n",
    "            self.__add_node(s, p)\n",
    "        while len(self.nodes) > 1:\n",
    "            self.nodes = sorted(self.nodes, key=lambda x: x.prob, reverse=True)\n",
    "            apos, lpos = self.__get_least_probable_nodes()\n",
    "            nprob, nsim = apos.prob + lpos.prob, apos.simbol + lpos.simbol\n",
    "            apos.edge_value, lpos.edge_value = \"1\", \"0\"\n",
    "            self.__add_node(nsim, nprob, apos, lpos)\n",
    "        self.__compute_codes_recursive(self.nodes[0], \"\")\n",
    "        \n",
    "    def __compute_codes_recursive(self, node, acc):\n",
    "        acc_val = acc + node.edge_value\n",
    "        if node.left:\n",
    "            self.__compute_codes_recursive(node.left, acc_val)\n",
    "        if node.right:\n",
    "            self.__compute_codes_recursive(node.right, acc_val)\n",
    "        if not node.left and not node.right:\n",
    "            node.code = acc_val\n",
    "            self.codes[node.simbol] = node.code\n",
    "    \n",
    "    def get_codes(self):\n",
    "        return {s: c for s, c in sorted(self.codes.items())}\n",
    "    \n",
    "    def get_compression_factor(self):\n",
    "        return round(math.log(len(self.simbols), 2)/self.get_mean_bit_number(), 3)\n",
    "    \n",
    "    def get_mean_bit_number(self):\n",
    "        return round(sum([len(self.codes[s])*p for s, p in self.probs]), 3)\n",
    "    \n",
    "    def get_entropy(self):\n",
    "        return round(sum([-p*math.log(p, 2) for _, p in self.probs]), 3)\n",
    "    \n",
    "    def get_stats(self):\n",
    "        return {\"n_bits\": self.get_mean_bit_number(), \"entropy\": self.get_entropy(),\n",
    "               \"compression_factor\": self.get_compression_factor()}\n",
    "            \n",
    "    class HuffmanNode:\n",
    "        \n",
    "        def __init__(self, sim, prob, left_node, right_node, edge_value):\n",
    "            self.simbol = sim\n",
    "            self.prob = prob\n",
    "            self.left = left_node\n",
    "            self.right = right_node\n",
    "            self.edge_value = str(edge_value)\n",
    "            self.code = \"\""
   ]
  },
  {
   "cell_type": "code",
   "execution_count": 12,
   "metadata": {},
   "outputs": [
    {
     "name": "stdout",
     "output_type": "stream",
     "text": [
      "{'A': '10', 'B': '01', 'C': '111', 'D': '110', 'E': '0001', 'F': '0000', 'G': '0011', 'H': '0010'}\n",
      "{'n_bits': 2.72, 'entropy': 2.715, 'compression_factor': 1.103}\n"
     ]
    }
   ],
   "source": [
    "data = {\"A\": 25, \"B\": 25, \"C\": 14, \"D\": 14, \"E\": 5.5, \"F\": 5.5, \"G\": 5.5, \"H\": 5.5}\n",
    "hcoder_b = HuffmanCoderB(data)\n",
    "print(hcoder_b.get_codes())\n",
    "print(hcoder_b.get_stats())"
   ]
  },
  {
   "cell_type": "markdown",
   "metadata": {},
   "source": [
    "### c) Generad ahora una secuencia larga y aleatoria que contenga los símbolos del apartado a) y codificadla en Huffmann mediante el algoritmo implementado en el apartado b)."
   ]
  },
  {
   "cell_type": "code",
   "execution_count": null,
   "metadata": {},
   "outputs": [],
   "source": []
  },
  {
   "cell_type": "code",
   "execution_count": null,
   "metadata": {},
   "outputs": [],
   "source": []
  },
  {
   "cell_type": "markdown",
   "metadata": {},
   "source": [
    "### d) Ejecutad el programa con diversas secuencias aleatorias, suficientemente largas. ¿Qué factor de factor de compresión alcanzáis? ¿Qué relación tiene éste con la entropía calculada teóricamente para el conjunto de símbolos del apartado a)?"
   ]
  },
  {
   "cell_type": "code",
   "execution_count": null,
   "metadata": {},
   "outputs": [],
   "source": []
  },
  {
   "cell_type": "code",
   "execution_count": null,
   "metadata": {},
   "outputs": [],
   "source": []
  }
 ],
 "metadata": {
  "kernelspec": {
   "display_name": "Python 3",
   "language": "python",
   "name": "python3"
  },
  "language_info": {
   "codemirror_mode": {
    "name": "ipython",
    "version": 3
   },
   "file_extension": ".py",
   "mimetype": "text/x-python",
   "name": "python",
   "nbconvert_exporter": "python",
   "pygments_lexer": "ipython3",
   "version": "3.8.3"
  }
 },
 "nbformat": 4,
 "nbformat_minor": 4
}
